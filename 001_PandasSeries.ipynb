{
 "cells": [
  {
   "cell_type": "code",
   "execution_count": 1,
   "id": "05e7c158",
   "metadata": {},
   "outputs": [],
   "source": [
    "import numpy as np\n",
    "import pandas as pd\n",
    "\n",
    "import matplotlib.pyplot as plt\n",
    "%matplotlib inline\n",
    "\n",
    "from datetime import datetime"
   ]
  },
  {
   "cell_type": "markdown",
   "id": "fa924601",
   "metadata": {},
   "source": [
    "## Series"
   ]
  },
  {
   "cell_type": "markdown",
   "id": "076d993d",
   "metadata": {},
   "source": [
    "### Creating pandas series from list, array and dictionary"
   ]
  },
  {
   "cell_type": "code",
   "execution_count": 2,
   "id": "efbe6a4a",
   "metadata": {},
   "outputs": [],
   "source": [
    "label = 'a b c'.split()\n",
    "my_list = [1,2,3]"
   ]
  },
  {
   "cell_type": "code",
   "execution_count": 3,
   "id": "049e27af",
   "metadata": {},
   "outputs": [
    {
     "data": {
      "text/plain": [
       "['a', 'b', 'c']"
      ]
     },
     "execution_count": 3,
     "metadata": {},
     "output_type": "execute_result"
    }
   ],
   "source": [
    "label"
   ]
  },
  {
   "cell_type": "code",
   "execution_count": 4,
   "id": "1902cfe6",
   "metadata": {},
   "outputs": [
    {
     "data": {
      "text/plain": [
       "[1, 2, 3]"
      ]
     },
     "execution_count": 4,
     "metadata": {},
     "output_type": "execute_result"
    }
   ],
   "source": [
    "my_list"
   ]
  },
  {
   "cell_type": "code",
   "execution_count": 5,
   "id": "9d75a729",
   "metadata": {},
   "outputs": [],
   "source": [
    "my_arr = np.array(my_list)"
   ]
  },
  {
   "cell_type": "code",
   "execution_count": 6,
   "id": "6c9b8f69",
   "metadata": {},
   "outputs": [
    {
     "data": {
      "text/plain": [
       "array([1, 2, 3])"
      ]
     },
     "execution_count": 6,
     "metadata": {},
     "output_type": "execute_result"
    }
   ],
   "source": [
    "my_arr"
   ]
  },
  {
   "cell_type": "code",
   "execution_count": 7,
   "id": "db7192ea",
   "metadata": {},
   "outputs": [],
   "source": [
    "dic = {'a':10,'b':20,'c':30}"
   ]
  },
  {
   "cell_type": "code",
   "execution_count": 8,
   "id": "36945fe2",
   "metadata": {},
   "outputs": [
    {
     "data": {
      "text/plain": [
       "0    1\n",
       "1    2\n",
       "2    3\n",
       "dtype: int64"
      ]
     },
     "execution_count": 8,
     "metadata": {},
     "output_type": "execute_result"
    }
   ],
   "source": [
    "pd.Series(data=my_list)"
   ]
  },
  {
   "cell_type": "code",
   "execution_count": 9,
   "id": "864d7d4c",
   "metadata": {},
   "outputs": [
    {
     "data": {
      "text/plain": [
       "a    1\n",
       "b    2\n",
       "c    3\n",
       "dtype: int64"
      ]
     },
     "execution_count": 9,
     "metadata": {},
     "output_type": "execute_result"
    }
   ],
   "source": [
    "pd.Series(data=my_list,index=label)"
   ]
  },
  {
   "cell_type": "code",
   "execution_count": 10,
   "id": "bff8a412",
   "metadata": {},
   "outputs": [
    {
     "data": {
      "text/plain": [
       "a    1\n",
       "b    2\n",
       "c    3\n",
       "dtype: int32"
      ]
     },
     "execution_count": 10,
     "metadata": {},
     "output_type": "execute_result"
    }
   ],
   "source": [
    "pd.Series(data=my_arr,index=label)"
   ]
  },
  {
   "cell_type": "code",
   "execution_count": 11,
   "id": "3a978f39",
   "metadata": {},
   "outputs": [
    {
     "data": {
      "text/plain": [
       "a    10\n",
       "b    20\n",
       "c    30\n",
       "dtype: int64"
      ]
     },
     "execution_count": 11,
     "metadata": {},
     "output_type": "execute_result"
    }
   ],
   "source": [
    "pd.Series(data=dic)"
   ]
  },
  {
   "cell_type": "code",
   "execution_count": 12,
   "id": "b9adb19b",
   "metadata": {},
   "outputs": [
    {
     "data": {
      "text/plain": [
       "0         a\n",
       "1        22\n",
       "2    reg_no\n",
       "3      3.15\n",
       "dtype: object"
      ]
     },
     "execution_count": 12,
     "metadata": {},
     "output_type": "execute_result"
    }
   ],
   "source": [
    "pd.Series(data=['a', 22, 'reg_no', 3.15])"
   ]
  },
  {
   "cell_type": "code",
   "execution_count": 13,
   "id": "75b403c0",
   "metadata": {},
   "outputs": [],
   "source": [
    "ser1 = pd.Series(data=[1,2,3,4], index='USA Germany USSR Japan'.split())"
   ]
  },
  {
   "cell_type": "code",
   "execution_count": 14,
   "id": "0e9164f3",
   "metadata": {},
   "outputs": [
    {
     "data": {
      "text/plain": [
       "USA        1\n",
       "Germany    2\n",
       "USSR       3\n",
       "Japan      4\n",
       "dtype: int64"
      ]
     },
     "execution_count": 14,
     "metadata": {},
     "output_type": "execute_result"
    }
   ],
   "source": [
    "ser1"
   ]
  },
  {
   "cell_type": "code",
   "execution_count": 15,
   "id": "f8afe52e",
   "metadata": {},
   "outputs": [
    {
     "data": {
      "text/plain": [
       "2"
      ]
     },
     "execution_count": 15,
     "metadata": {},
     "output_type": "execute_result"
    }
   ],
   "source": [
    "ser1['Germany']"
   ]
  },
  {
   "cell_type": "code",
   "execution_count": 16,
   "id": "37b1baff",
   "metadata": {},
   "outputs": [],
   "source": [
    "ser2 = pd.Series(data=[10,20,30,40], index='USA Germany Italy Japan'.split())"
   ]
  },
  {
   "cell_type": "code",
   "execution_count": 17,
   "id": "6309af8a",
   "metadata": {},
   "outputs": [
    {
     "data": {
      "text/plain": [
       "Germany    22.0\n",
       "Italy       NaN\n",
       "Japan      44.0\n",
       "USA        11.0\n",
       "USSR        NaN\n",
       "dtype: float64"
      ]
     },
     "execution_count": 17,
     "metadata": {},
     "output_type": "execute_result"
    }
   ],
   "source": [
    "ser2 + ser1"
   ]
  },
  {
   "cell_type": "code",
   "execution_count": 18,
   "id": "1b26a893",
   "metadata": {},
   "outputs": [
    {
     "data": {
      "text/plain": [
       "Germany    22.0\n",
       "Italy       NaN\n",
       "Japan      44.0\n",
       "USA        11.0\n",
       "USSR        NaN\n",
       "dtype: float64"
      ]
     },
     "execution_count": 18,
     "metadata": {},
     "output_type": "execute_result"
    }
   ],
   "source": [
    "ser1.add(ser2)"
   ]
  },
  {
   "cell_type": "code",
   "execution_count": null,
   "id": "a9083123",
   "metadata": {},
   "outputs": [],
   "source": []
  }
 ],
 "metadata": {
  "kernelspec": {
   "display_name": "Python 3 (ipykernel)",
   "language": "python",
   "name": "python3"
  },
  "language_info": {
   "codemirror_mode": {
    "name": "ipython",
    "version": 3
   },
   "file_extension": ".py",
   "mimetype": "text/x-python",
   "name": "python",
   "nbconvert_exporter": "python",
   "pygments_lexer": "ipython3",
   "version": "3.7.2"
  }
 },
 "nbformat": 4,
 "nbformat_minor": 5
}
