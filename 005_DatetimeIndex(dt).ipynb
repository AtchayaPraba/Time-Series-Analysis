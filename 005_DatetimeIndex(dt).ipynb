{
 "cells": [
  {
   "cell_type": "code",
   "execution_count": 1,
   "id": "c752e756",
   "metadata": {},
   "outputs": [],
   "source": [
    "import numpy as np\n",
    "import pandas as pd\n",
    "\n",
    "import matplotlib.pyplot as plt\n",
    "%matplotlib inline\n",
    "\n",
    "# importing python datetime object\n",
    "from datetime import datetime"
   ]
  },
  {
   "cell_type": "markdown",
   "id": "d656a15f",
   "metadata": {},
   "source": [
    "# Datetime index\n",
    "## Python"
   ]
  },
  {
   "cell_type": "markdown",
   "id": "779d6b7d",
   "metadata": {},
   "source": [
    "### Python datetime (dt) object"
   ]
  },
  {
   "cell_type": "code",
   "execution_count": 2,
   "id": "91300c3e",
   "metadata": {},
   "outputs": [],
   "source": [
    "my_year = 2020\n",
    "my_month = 1\n",
    "my_day = 2\n",
    "my_hour = 13\n",
    "my_min = 30\n",
    "my_sec = 15"
   ]
  },
  {
   "cell_type": "code",
   "execution_count": 3,
   "id": "dd9757ba",
   "metadata": {},
   "outputs": [],
   "source": [
    "my_date = datetime(my_year,my_month,my_day)"
   ]
  },
  {
   "cell_type": "code",
   "execution_count": 4,
   "id": "b7464b6c",
   "metadata": {},
   "outputs": [
    {
     "data": {
      "text/plain": [
       "datetime.datetime(2020, 1, 2, 0, 0)"
      ]
     },
     "execution_count": 4,
     "metadata": {},
     "output_type": "execute_result"
    }
   ],
   "source": [
    "my_date"
   ]
  },
  {
   "cell_type": "code",
   "execution_count": 5,
   "id": "935c403a",
   "metadata": {},
   "outputs": [],
   "source": [
    "my_date = datetime(my_year,my_month,my_day,my_hour,my_min,my_sec)"
   ]
  },
  {
   "cell_type": "code",
   "execution_count": 6,
   "id": "b7e9fc70",
   "metadata": {},
   "outputs": [
    {
     "data": {
      "text/plain": [
       "datetime.datetime(2020, 1, 2, 13, 30, 15)"
      ]
     },
     "execution_count": 6,
     "metadata": {},
     "output_type": "execute_result"
    }
   ],
   "source": [
    "my_date"
   ]
  },
  {
   "cell_type": "code",
   "execution_count": 7,
   "id": "b86e6f37",
   "metadata": {},
   "outputs": [
    {
     "data": {
      "text/plain": [
       "2"
      ]
     },
     "execution_count": 7,
     "metadata": {},
     "output_type": "execute_result"
    }
   ],
   "source": [
    "my_date.day"
   ]
  },
  {
   "cell_type": "code",
   "execution_count": 8,
   "id": "3f6feb01",
   "metadata": {},
   "outputs": [
    {
     "data": {
      "text/plain": [
       "13"
      ]
     },
     "execution_count": 8,
     "metadata": {},
     "output_type": "execute_result"
    }
   ],
   "source": [
    "my_date.hour"
   ]
  },
  {
   "cell_type": "code",
   "execution_count": 9,
   "id": "3e377482",
   "metadata": {},
   "outputs": [
    {
     "data": {
      "text/plain": [
       "datetime.datetime"
      ]
     },
     "execution_count": 9,
     "metadata": {},
     "output_type": "execute_result"
    }
   ],
   "source": [
    "type(my_date)"
   ]
  },
  {
   "cell_type": "markdown",
   "id": "cf37a18b",
   "metadata": {},
   "source": [
    "## Numpy 'datetime64'"
   ]
  },
  {
   "cell_type": "markdown",
   "id": "27104df1",
   "metadata": {},
   "source": [
    "### Numpy datetime (dt) array"
   ]
  },
  {
   "cell_type": "code",
   "execution_count": 10,
   "id": "dc8aeacb",
   "metadata": {},
   "outputs": [
    {
     "data": {
      "text/plain": [
       "array(['2020-03-15', '2020-03-16', '2020-03-17'], dtype='<U10')"
      ]
     },
     "execution_count": 10,
     "metadata": {},
     "output_type": "execute_result"
    }
   ],
   "source": [
    "np.array(['2020-03-15','2020-03-16','2020-03-17'])"
   ]
  },
  {
   "cell_type": "code",
   "execution_count": 11,
   "id": "c47a68c2",
   "metadata": {},
   "outputs": [
    {
     "data": {
      "text/plain": [
       "array(['2020-03-15', '2020-03-16', '2020-03-17'], dtype='datetime64[D]')"
      ]
     },
     "execution_count": 11,
     "metadata": {},
     "output_type": "execute_result"
    }
   ],
   "source": [
    "np.array(['2020-03-15','2020-03-16','2020-03-17'],dtype='datetime64')"
   ]
  },
  {
   "cell_type": "code",
   "execution_count": 12,
   "id": "41d1f5ac",
   "metadata": {},
   "outputs": [
    {
     "data": {
      "text/plain": [
       "array(['2020', '2020', '2020'], dtype='datetime64[Y]')"
      ]
     },
     "execution_count": 12,
     "metadata": {},
     "output_type": "execute_result"
    }
   ],
   "source": [
    "np.array(['2020-03-15','2020-03-16','2020-03-17'],dtype='datetime64[Y]')"
   ]
  },
  {
   "cell_type": "code",
   "execution_count": 13,
   "id": "f5cda724",
   "metadata": {},
   "outputs": [
    {
     "data": {
      "text/plain": [
       "array(['2020-03-15T00', '2020-03-16T00', '2020-03-17T00'],\n",
       "      dtype='datetime64[h]')"
      ]
     },
     "execution_count": 13,
     "metadata": {},
     "output_type": "execute_result"
    }
   ],
   "source": [
    "np.array(['2020-03-15','2020-03-16','2020-03-17'],dtype='datetime64[h]')"
   ]
  },
  {
   "cell_type": "markdown",
   "id": "75de6e18",
   "metadata": {},
   "source": [
    "### Numpy datetime (dt) ranges"
   ]
  },
  {
   "cell_type": "code",
   "execution_count": 14,
   "id": "23b5cd18",
   "metadata": {},
   "outputs": [
    {
     "data": {
      "text/plain": [
       "array(['2018-06-01', '2018-06-08', '2018-06-15', '2018-06-22'],\n",
       "      dtype='datetime64[D]')"
      ]
     },
     "execution_count": 14,
     "metadata": {},
     "output_type": "execute_result"
    }
   ],
   "source": [
    "np.arange('2018-06-01','2018-06-23',7,dtype='datetime64[D]')"
   ]
  },
  {
   "cell_type": "code",
   "execution_count": 15,
   "id": "ad1fddcf",
   "metadata": {},
   "outputs": [
    {
     "data": {
      "text/plain": [
       "array(['2018-06-01', '2018-06-02', '2018-06-03', '2018-06-04',\n",
       "       '2018-06-05', '2018-06-06', '2018-06-07', '2018-06-08',\n",
       "       '2018-06-09', '2018-06-10', '2018-06-11', '2018-06-12',\n",
       "       '2018-06-13', '2018-06-14', '2018-06-15', '2018-06-16',\n",
       "       '2018-06-17', '2018-06-18', '2018-06-19', '2018-06-20',\n",
       "       '2018-06-21', '2018-06-22'], dtype='datetime64[D]')"
      ]
     },
     "execution_count": 15,
     "metadata": {},
     "output_type": "execute_result"
    }
   ],
   "source": [
    "np.arange('2018-06-01','2018-06-23',1,dtype='datetime64[D]')"
   ]
  },
  {
   "cell_type": "code",
   "execution_count": 16,
   "id": "616e316f",
   "metadata": {},
   "outputs": [
    {
     "data": {
      "text/plain": [
       "array(['1993', '1994', '1995', '1996', '1997', '1998', '1999', '2000',\n",
       "       '2001', '2002', '2003', '2004', '2005', '2006', '2007', '2008',\n",
       "       '2009', '2010', '2011', '2012', '2013', '2014', '2015', '2016',\n",
       "       '2017', '2018', '2019'], dtype='datetime64[Y]')"
      ]
     },
     "execution_count": 16,
     "metadata": {},
     "output_type": "execute_result"
    }
   ],
   "source": [
    "np.arange('1993','2020',dtype='datetime64[Y]')"
   ]
  },
  {
   "cell_type": "markdown",
   "id": "0b2e3d4b",
   "metadata": {},
   "source": [
    "## Pandas"
   ]
  },
  {
   "cell_type": "markdown",
   "id": "8058371c",
   "metadata": {},
   "source": [
    "### Pandas datetime (dt) ranges"
   ]
  },
  {
   "cell_type": "code",
   "execution_count": 17,
   "id": "7eb16269",
   "metadata": {},
   "outputs": [
    {
     "data": {
      "text/plain": [
       "DatetimeIndex(['2020-01-01', '2020-01-02', '2020-01-03', '2020-01-04',\n",
       "               '2020-01-05', '2020-01-06', '2020-01-07'],\n",
       "              dtype='datetime64[ns]', freq='D')"
      ]
     },
     "execution_count": 17,
     "metadata": {},
     "output_type": "execute_result"
    }
   ],
   "source": [
    "pd.date_range(start='2020-01-01',periods=7,freq='D')"
   ]
  },
  {
   "cell_type": "code",
   "execution_count": 18,
   "id": "e9016617",
   "metadata": {},
   "outputs": [
    {
     "data": {
      "text/plain": [
       "DatetimeIndex(['2018-01-01', '2018-01-02', '2018-01-03', '2018-01-04',\n",
       "               '2018-01-05', '2018-01-06', '2018-01-07'],\n",
       "              dtype='datetime64[ns]', freq='D')"
      ]
     },
     "execution_count": 18,
     "metadata": {},
     "output_type": "execute_result"
    }
   ],
   "source": [
    "pd.date_range(start='Jan 01, 2018',periods=7,freq='D')"
   ]
  },
  {
   "cell_type": "code",
   "execution_count": 19,
   "id": "40730e92",
   "metadata": {},
   "outputs": [
    {
     "data": {
      "text/plain": [
       "DatetimeIndex(['2018-01-02', '2018-01-03'], dtype='datetime64[ns]', freq=None)"
      ]
     },
     "execution_count": 19,
     "metadata": {},
     "output_type": "execute_result"
    }
   ],
   "source": [
    "pd.to_datetime(['1/2/2018','Jan 03, 2018'])"
   ]
  },
  {
   "cell_type": "code",
   "execution_count": 20,
   "id": "63d00485",
   "metadata": {},
   "outputs": [
    {
     "data": {
      "text/plain": [
       "DatetimeIndex(['2018-01-02', '2018-01-03', '2018-01-03'], dtype='datetime64[ns]', freq=None)"
      ]
     },
     "execution_count": 20,
     "metadata": {},
     "output_type": "execute_result"
    }
   ],
   "source": [
    "pd.to_datetime(['1/2/2018','Jan 03, 2018', '1/3/2018'])"
   ]
  },
  {
   "cell_type": "code",
   "execution_count": 21,
   "id": "d84fa4f5",
   "metadata": {},
   "outputs": [
    {
     "data": {
      "text/plain": [
       "DatetimeIndex(['2018-02-01', '2018-03-01'], dtype='datetime64[ns]', freq=None)"
      ]
     },
     "execution_count": 21,
     "metadata": {},
     "output_type": "execute_result"
    }
   ],
   "source": [
    "pd.to_datetime(['2/1/2018', '3/1/2018'])"
   ]
  },
  {
   "cell_type": "code",
   "execution_count": 22,
   "id": "5b21fe20",
   "metadata": {},
   "outputs": [
    {
     "data": {
      "text/plain": [
       "DatetimeIndex(['2018-01-02', '2018-01-03'], dtype='datetime64[ns]', freq=None)"
      ]
     },
     "execution_count": 22,
     "metadata": {},
     "output_type": "execute_result"
    }
   ],
   "source": [
    "pd.to_datetime(['2/1/2018', '3/1/2018'],format='%d/%m/%Y')"
   ]
  },
  {
   "cell_type": "code",
   "execution_count": 23,
   "id": "d3faec4d",
   "metadata": {},
   "outputs": [
    {
     "data": {
      "text/plain": [
       "DatetimeIndex(['2018-01-02', '2018-01-03'], dtype='datetime64[ns]', freq=None)"
      ]
     },
     "execution_count": 23,
     "metadata": {},
     "output_type": "execute_result"
    }
   ],
   "source": [
    "pd.to_datetime(['2--1--2018', '3--1--2018'],format='%d--%m--%Y')"
   ]
  },
  {
   "cell_type": "markdown",
   "id": "7858ee24",
   "metadata": {},
   "source": [
    "### Pandas datetime (dt) analysis"
   ]
  },
  {
   "cell_type": "code",
   "execution_count": 24,
   "id": "eac4e739",
   "metadata": {},
   "outputs": [
    {
     "name": "stdout",
     "output_type": "stream",
     "text": [
      "[[ 0.44409552  0.21652097]\n",
      " [-1.49497752 -0.31034022]\n",
      " [ 0.34944981  1.69007617]]\n"
     ]
    }
   ],
   "source": [
    "data = np.random.randn(3,2)\n",
    "col = ['A','B']\n",
    "\n",
    "print(data)"
   ]
  },
  {
   "cell_type": "code",
   "execution_count": 25,
   "id": "7b1b4c42",
   "metadata": {},
   "outputs": [],
   "source": [
    "idx = pd.date_range(start='2020-01-01',freq='D', periods=3)\n",
    "df = pd.DataFrame(data=data, index=idx, columns=col)"
   ]
  },
  {
   "cell_type": "code",
   "execution_count": 26,
   "id": "5572f70c",
   "metadata": {},
   "outputs": [
    {
     "data": {
      "text/html": [
       "<div>\n",
       "<style scoped>\n",
       "    .dataframe tbody tr th:only-of-type {\n",
       "        vertical-align: middle;\n",
       "    }\n",
       "\n",
       "    .dataframe tbody tr th {\n",
       "        vertical-align: top;\n",
       "    }\n",
       "\n",
       "    .dataframe thead th {\n",
       "        text-align: right;\n",
       "    }\n",
       "</style>\n",
       "<table border=\"1\" class=\"dataframe\">\n",
       "  <thead>\n",
       "    <tr style=\"text-align: right;\">\n",
       "      <th></th>\n",
       "      <th>A</th>\n",
       "      <th>B</th>\n",
       "    </tr>\n",
       "  </thead>\n",
       "  <tbody>\n",
       "    <tr>\n",
       "      <th>2020-01-01</th>\n",
       "      <td>0.444096</td>\n",
       "      <td>0.216521</td>\n",
       "    </tr>\n",
       "    <tr>\n",
       "      <th>2020-01-02</th>\n",
       "      <td>-1.494978</td>\n",
       "      <td>-0.310340</td>\n",
       "    </tr>\n",
       "    <tr>\n",
       "      <th>2020-01-03</th>\n",
       "      <td>0.349450</td>\n",
       "      <td>1.690076</td>\n",
       "    </tr>\n",
       "  </tbody>\n",
       "</table>\n",
       "</div>"
      ],
      "text/plain": [
       "                   A         B\n",
       "2020-01-01  0.444096  0.216521\n",
       "2020-01-02 -1.494978 -0.310340\n",
       "2020-01-03  0.349450  1.690076"
      ]
     },
     "execution_count": 26,
     "metadata": {},
     "output_type": "execute_result"
    }
   ],
   "source": [
    "df"
   ]
  },
  {
   "cell_type": "code",
   "execution_count": 27,
   "id": "c2e09cbc",
   "metadata": {},
   "outputs": [
    {
     "data": {
      "text/plain": [
       "DatetimeIndex(['2020-01-01', '2020-01-02', '2020-01-03'], dtype='datetime64[ns]', freq='D')"
      ]
     },
     "execution_count": 27,
     "metadata": {},
     "output_type": "execute_result"
    }
   ],
   "source": [
    "df.index"
   ]
  },
  {
   "cell_type": "code",
   "execution_count": 28,
   "id": "9e65beb4",
   "metadata": {},
   "outputs": [
    {
     "data": {
      "text/plain": [
       "Timestamp('2020-01-03 00:00:00', freq='D')"
      ]
     },
     "execution_count": 28,
     "metadata": {},
     "output_type": "execute_result"
    }
   ],
   "source": [
    "df.index.max()"
   ]
  },
  {
   "cell_type": "code",
   "execution_count": 29,
   "id": "6b5d6a3b",
   "metadata": {},
   "outputs": [
    {
     "data": {
      "text/plain": [
       "2"
      ]
     },
     "execution_count": 29,
     "metadata": {},
     "output_type": "execute_result"
    }
   ],
   "source": [
    "df.index.argmax()"
   ]
  },
  {
   "cell_type": "code",
   "execution_count": 30,
   "id": "d2d080b2",
   "metadata": {},
   "outputs": [
    {
     "data": {
      "text/plain": [
       "Timestamp('2020-01-01 00:00:00', freq='D')"
      ]
     },
     "execution_count": 30,
     "metadata": {},
     "output_type": "execute_result"
    }
   ],
   "source": [
    "df.index.min()"
   ]
  },
  {
   "cell_type": "code",
   "execution_count": 31,
   "id": "d9cefa4f",
   "metadata": {},
   "outputs": [
    {
     "data": {
      "text/plain": [
       "0"
      ]
     },
     "execution_count": 31,
     "metadata": {},
     "output_type": "execute_result"
    }
   ],
   "source": [
    "df.index.argmin()"
   ]
  },
  {
   "cell_type": "code",
   "execution_count": null,
   "id": "0ff14300",
   "metadata": {},
   "outputs": [],
   "source": []
  }
 ],
 "metadata": {
  "kernelspec": {
   "display_name": "Python 3 (ipykernel)",
   "language": "python",
   "name": "python3"
  },
  "language_info": {
   "codemirror_mode": {
    "name": "ipython",
    "version": 3
   },
   "file_extension": ".py",
   "mimetype": "text/x-python",
   "name": "python",
   "nbconvert_exporter": "python",
   "pygments_lexer": "ipython3",
   "version": "3.7.2"
  }
 },
 "nbformat": 4,
 "nbformat_minor": 5
}
