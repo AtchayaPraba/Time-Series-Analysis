{
 "cells": [
  {
   "cell_type": "code",
   "execution_count": 1,
   "id": "d60ecc00",
   "metadata": {},
   "outputs": [],
   "source": [
    "import numpy as np\n",
    "import pandas as pd\n",
    "\n",
    "import matplotlib.pyplot as plt\n",
    "%matplotlib inline\n",
    "from matplotlib import dates\n",
    "\n",
    "from datetime import datetime"
   ]
  },
  {
   "cell_type": "markdown",
   "id": "e5ce0246",
   "metadata": {},
   "source": [
    "# Auto regression (AR) model : p"
   ]
  },
  {
   "cell_type": "code",
   "execution_count": 2,
   "id": "2377581a",
   "metadata": {},
   "outputs": [],
   "source": [
    "from statsmodels.tsa.ar_model import AR,ARResults"
   ]
  },
  {
   "cell_type": "code",
   "execution_count": 3,
   "id": "bf63ad92",
   "metadata": {},
   "outputs": [],
   "source": [
    "df = pd.read_csv('../Data/uspopulation.csv', parse_dates=True, index_col='DATE')"
   ]
  },
  {
   "cell_type": "code",
   "execution_count": 4,
   "id": "0d4b80cb",
   "metadata": {},
   "outputs": [],
   "source": [
    "df.index.freq = 'MS'"
   ]
  },
  {
   "cell_type": "code",
   "execution_count": 5,
   "id": "d7d6545c",
   "metadata": {},
   "outputs": [
    {
     "data": {
      "text/plain": [
       "DatetimeIndex(['2011-01-01', '2011-02-01', '2011-03-01', '2011-04-01',\n",
       "               '2011-05-01', '2011-06-01', '2011-07-01', '2011-08-01',\n",
       "               '2011-09-01', '2011-10-01', '2011-11-01', '2011-12-01',\n",
       "               '2012-01-01', '2012-02-01', '2012-03-01', '2012-04-01',\n",
       "               '2012-05-01', '2012-06-01', '2012-07-01', '2012-08-01',\n",
       "               '2012-09-01', '2012-10-01', '2012-11-01', '2012-12-01',\n",
       "               '2013-01-01', '2013-02-01', '2013-03-01', '2013-04-01',\n",
       "               '2013-05-01', '2013-06-01', '2013-07-01', '2013-08-01',\n",
       "               '2013-09-01', '2013-10-01', '2013-11-01', '2013-12-01',\n",
       "               '2014-01-01', '2014-02-01', '2014-03-01', '2014-04-01',\n",
       "               '2014-05-01', '2014-06-01', '2014-07-01', '2014-08-01',\n",
       "               '2014-09-01', '2014-10-01', '2014-11-01', '2014-12-01',\n",
       "               '2015-01-01', '2015-02-01', '2015-03-01', '2015-04-01',\n",
       "               '2015-05-01', '2015-06-01', '2015-07-01', '2015-08-01',\n",
       "               '2015-09-01', '2015-10-01', '2015-11-01', '2015-12-01',\n",
       "               '2016-01-01', '2016-02-01', '2016-03-01', '2016-04-01',\n",
       "               '2016-05-01', '2016-06-01', '2016-07-01', '2016-08-01',\n",
       "               '2016-09-01', '2016-10-01', '2016-11-01', '2016-12-01',\n",
       "               '2017-01-01', '2017-02-01', '2017-03-01', '2017-04-01',\n",
       "               '2017-05-01', '2017-06-01', '2017-07-01', '2017-08-01',\n",
       "               '2017-09-01', '2017-10-01', '2017-11-01', '2017-12-01',\n",
       "               '2018-01-01', '2018-02-01', '2018-03-01', '2018-04-01',\n",
       "               '2018-05-01', '2018-06-01', '2018-07-01', '2018-08-01',\n",
       "               '2018-09-01', '2018-10-01', '2018-11-01', '2018-12-01'],\n",
       "              dtype='datetime64[ns]', name='DATE', freq='MS')"
      ]
     },
     "execution_count": 5,
     "metadata": {},
     "output_type": "execute_result"
    }
   ],
   "source": [
    "df.index"
   ]
  },
  {
   "cell_type": "code",
   "execution_count": 6,
   "id": "934cdf82",
   "metadata": {},
   "outputs": [
    {
     "data": {
      "text/plain": [
       "<matplotlib.axes._subplots.AxesSubplot at 0x28251fb61d0>"
      ]
     },
     "execution_count": 6,
     "metadata": {},
     "output_type": "execute_result"
    },
    {
     "data": {
      "image/png": "[encoded data removed]",
      "text/plain": [
       "<Figure size 864x576 with 1 Axes>"
      ]
     },
     "metadata": {
      "needs_background": "light"
     },
     "output_type": "display_data"
    }
   ],
   "source": [
    "df.plot(figsize=(12,8))"
   ]
  },
  {
   "cell_type": "code",
   "execution_count": 7,
   "id": "243e94c6",
   "metadata": {},
   "outputs": [
    {
     "data": {
      "text/plain": [
       "96"
      ]
     },
     "execution_count": 7,
     "metadata": {},
     "output_type": "execute_result"
    }
   ],
   "source": [
    "len(df)"
   ]
  },
  {
   "cell_type": "code",
   "execution_count": 8,
   "id": "98c851a1",
   "metadata": {},
   "outputs": [],
   "source": [
    "train = df.iloc[:84]\n",
    "test = df.iloc[84:]"
   ]
  },
  {
   "cell_type": "code",
   "execution_count": 9,
   "id": "845c528e",
   "metadata": {},
   "outputs": [],
   "source": [
    "import warnings\n",
    "warnings.filterwarnings('ignore')"
   ]
  },
  {
   "cell_type": "code",
   "execution_count": 10,
   "id": "f69ea8c0",
   "metadata": {},
   "outputs": [],
   "source": [
    "model = AR(train['PopEst'])"
   ]
  },
  {
   "cell_type": "code",
   "execution_count": 11,
   "id": "059181bf",
   "metadata": {},
   "outputs": [],
   "source": [
    "fitted_AR1 = model.fit(maxlag=1)"
   ]
  },
  {
   "cell_type": "code",
   "execution_count": 12,
   "id": "c2252eee",
   "metadata": {},
   "outputs": [
    {
     "data": {
      "text/plain": [
       "1"
      ]
     },
     "execution_count": 12,
     "metadata": {},
     "output_type": "execute_result"
    }
   ],
   "source": [
    "fitted_AR1.k_ar"
   ]
  },
  {
   "cell_type": "code",
   "execution_count": 13,
   "id": "ed3cdf5a",
   "metadata": {},
   "outputs": [
    {
     "data": {
      "text/plain": [
       "const        284.913797\n",
       "L1.PopEst      0.999686\n",
       "dtype: float64"
      ]
     },
     "execution_count": 13,
     "metadata": {},
     "output_type": "execute_result"
    }
   ],
   "source": [
    "fitted_AR1.params"
   ]
  },
  {
   "cell_type": "code",
   "execution_count": 14,
   "id": "42ed5111",
   "metadata": {},
   "outputs": [
    {
     "name": "stdout",
     "output_type": "stream",
     "text": [
      "84 95\n"
     ]
    }
   ],
   "source": [
    "start = len(train)\n",
    "end = len(train) + len(test) - 1\n",
    "\n",
    "print(start,end)"
   ]
  },
  {
   "cell_type": "code",
   "execution_count": 15,
   "id": "7089232e",
   "metadata": {},
   "outputs": [
    {
     "data": {
      "text/plain": [
       "2018-01-01    326560.403377\n",
       "2018-02-01    326742.749463\n",
       "2018-03-01    326925.038278\n",
       "2018-04-01    327107.269838\n",
       "2018-05-01    327289.444162\n",
       "2018-06-01    327471.561268\n",
       "2018-07-01    327653.621173\n",
       "2018-08-01    327835.623896\n",
       "2018-09-01    328017.569455\n",
       "2018-10-01    328199.457868\n",
       "2018-11-01    328381.289152\n",
       "2018-12-01    328563.063326\n",
       "Freq: MS, dtype: float64"
      ]
     },
     "execution_count": 15,
     "metadata": {},
     "output_type": "execute_result"
    }
   ],
   "source": [
    "fitted_AR1.predict(start=start,end=end)"
   ]
  },
  {
   "cell_type": "code",
   "execution_count": 16,
   "id": "eaf5aa56",
   "metadata": {},
   "outputs": [],
   "source": [
    "from sklearn.metrics import mean_absolute_error,mean_squared_error\n",
    "def reg_eval_metrics (y_true,y_pred):\n",
    "    \n",
    "    MAE = mean_absolute_error(y_true=y_true,y_pred=y_pred)\n",
    "    MSE = mean_squared_error(y_true=y_true,y_pred=y_pred)\n",
    "    RMSE = np.sqrt(MSE)\n",
    "\n",
    "    print ('MAE: ',MAE)\n",
    "    print ('MSE: ',MSE)\n",
    "    print ('RMSE: ',RMSE)"
   ]
  },
  {
   "cell_type": "code",
   "execution_count": 17,
   "id": "979611ca",
   "metadata": {},
   "outputs": [],
   "source": [
    "pred = test.copy()"
   ]
  },
  {
   "cell_type": "code",
   "execution_count": 18,
   "id": "56274c65",
   "metadata": {},
   "outputs": [
    {
     "data": {
      "text/html": [
       "<div>\n",
       "<style scoped>\n",
       "    .dataframe tbody tr th:only-of-type {\n",
       "        vertical-align: middle;\n",
       "    }\n",
       "\n",
       "    .dataframe tbody tr th {\n",
       "        vertical-align: top;\n",
       "    }\n",
       "\n",
       "    .dataframe thead th {\n",
       "        text-align: right;\n",
       "    }\n",
       "</style>\n",
       "<table border=\"1\" class=\"dataframe\">\n",
       "  <thead>\n",
       "    <tr style=\"text-align: right;\">\n",
       "      <th></th>\n",
       "      <th>PopEst</th>\n",
       "    </tr>\n",
       "    <tr>\n",
       "      <th>DATE</th>\n",
       "      <th></th>\n",
       "    </tr>\n",
       "  </thead>\n",
       "  <tbody>\n",
       "    <tr>\n",
       "      <th>2018-01-01</th>\n",
       "      <td>326527</td>\n",
       "    </tr>\n",
       "    <tr>\n",
       "      <th>2018-02-01</th>\n",
       "      <td>326669</td>\n",
       "    </tr>\n",
       "    <tr>\n",
       "      <th>2018-03-01</th>\n",
       "      <td>326812</td>\n",
       "    </tr>\n",
       "    <tr>\n",
       "      <th>2018-04-01</th>\n",
       "      <td>326968</td>\n",
       "    </tr>\n",
       "    <tr>\n",
       "      <th>2018-05-01</th>\n",
       "      <td>327134</td>\n",
       "    </tr>\n",
       "    <tr>\n",
       "      <th>2018-06-01</th>\n",
       "      <td>327312</td>\n",
       "    </tr>\n",
       "    <tr>\n",
       "      <th>2018-07-01</th>\n",
       "      <td>327502</td>\n",
       "    </tr>\n",
       "    <tr>\n",
       "      <th>2018-08-01</th>\n",
       "      <td>327698</td>\n",
       "    </tr>\n",
       "    <tr>\n",
       "      <th>2018-09-01</th>\n",
       "      <td>327893</td>\n",
       "    </tr>\n",
       "    <tr>\n",
       "      <th>2018-10-01</th>\n",
       "      <td>328077</td>\n",
       "    </tr>\n",
       "    <tr>\n",
       "      <th>2018-11-01</th>\n",
       "      <td>328241</td>\n",
       "    </tr>\n",
       "    <tr>\n",
       "      <th>2018-12-01</th>\n",
       "      <td>328393</td>\n",
       "    </tr>\n",
       "  </tbody>\n",
       "</table>\n",
       "</div>"
      ],
      "text/plain": [
       "            PopEst\n",
       "DATE              \n",
       "2018-01-01  326527\n",
       "2018-02-01  326669\n",
       "2018-03-01  326812\n",
       "2018-04-01  326968\n",
       "2018-05-01  327134\n",
       "2018-06-01  327312\n",
       "2018-07-01  327502\n",
       "2018-08-01  327698\n",
       "2018-09-01  327893\n",
       "2018-10-01  328077\n",
       "2018-11-01  328241\n",
       "2018-12-01  328393"
      ]
     },
     "execution_count": 18,
     "metadata": {},
     "output_type": "execute_result"
    }
   ],
   "source": [
    "pred"
   ]
  },
  {
   "cell_type": "code",
   "execution_count": 19,
   "id": "b06b8d67",
   "metadata": {},
   "outputs": [
    {
     "data": {
      "text/html": [
       "<div>\n",
       "<style scoped>\n",
       "    .dataframe tbody tr th:only-of-type {\n",
       "        vertical-align: middle;\n",
       "    }\n",
       "\n",
       "    .dataframe tbody tr th {\n",
       "        vertical-align: top;\n",
       "    }\n",
       "\n",
       "    .dataframe thead th {\n",
       "        text-align: right;\n",
       "    }\n",
       "</style>\n",
       "<table border=\"1\" class=\"dataframe\">\n",
       "  <thead>\n",
       "    <tr style=\"text-align: right;\">\n",
       "      <th></th>\n",
       "      <th>PopEst</th>\n",
       "      <th>AR1_pred</th>\n",
       "    </tr>\n",
       "    <tr>\n",
       "      <th>DATE</th>\n",
       "      <th></th>\n",
       "      <th></th>\n",
       "    </tr>\n",
       "  </thead>\n",
       "  <tbody>\n",
       "    <tr>\n",
       "      <th>2018-01-01</th>\n",
       "      <td>326527</td>\n",
       "      <td>326560.403377</td>\n",
       "    </tr>\n",
       "    <tr>\n",
       "      <th>2018-02-01</th>\n",
       "      <td>326669</td>\n",
       "      <td>326742.749463</td>\n",
       "    </tr>\n",
       "    <tr>\n",
       "      <th>2018-03-01</th>\n",
       "      <td>326812</td>\n",
       "      <td>326925.038278</td>\n",
       "    </tr>\n",
       "    <tr>\n",
       "      <th>2018-04-01</th>\n",
       "      <td>326968</td>\n",
       "      <td>327107.269838</td>\n",
       "    </tr>\n",
       "    <tr>\n",
       "      <th>2018-05-01</th>\n",
       "      <td>327134</td>\n",
       "      <td>327289.444162</td>\n",
       "    </tr>\n",
       "    <tr>\n",
       "      <th>2018-06-01</th>\n",
       "      <td>327312</td>\n",
       "      <td>327471.561268</td>\n",
       "    </tr>\n",
       "    <tr>\n",
       "      <th>2018-07-01</th>\n",
       "      <td>327502</td>\n",
       "      <td>327653.621173</td>\n",
       "    </tr>\n",
       "    <tr>\n",
       "      <th>2018-08-01</th>\n",
       "      <td>327698</td>\n",
       "      <td>327835.623896</td>\n",
       "    </tr>\n",
       "    <tr>\n",
       "      <th>2018-09-01</th>\n",
       "      <td>327893</td>\n",
       "      <td>328017.569455</td>\n",
       "    </tr>\n",
       "    <tr>\n",
       "      <th>2018-10-01</th>\n",
       "      <td>328077</td>\n",
       "      <td>328199.457868</td>\n",
       "    </tr>\n",
       "    <tr>\n",
       "      <th>2018-11-01</th>\n",
       "      <td>328241</td>\n",
       "      <td>328381.289152</td>\n",
       "    </tr>\n",
       "    <tr>\n",
       "      <th>2018-12-01</th>\n",
       "      <td>328393</td>\n",
       "      <td>328563.063326</td>\n",
       "    </tr>\n",
       "  </tbody>\n",
       "</table>\n",
       "</div>"
      ],
      "text/plain": [
       "            PopEst       AR1_pred\n",
       "DATE                             \n",
       "2018-01-01  326527  326560.403377\n",
       "2018-02-01  326669  326742.749463\n",
       "2018-03-01  326812  326925.038278\n",
       "2018-04-01  326968  327107.269838\n",
       "2018-05-01  327134  327289.444162\n",
       "2018-06-01  327312  327471.561268\n",
       "2018-07-01  327502  327653.621173\n",
       "2018-08-01  327698  327835.623896\n",
       "2018-09-01  327893  328017.569455\n",
       "2018-10-01  328077  328199.457868\n",
       "2018-11-01  328241  328381.289152\n",
       "2018-12-01  328393  328563.063326"
      ]
     },
     "execution_count": 19,
     "metadata": {},
     "output_type": "execute_result"
    }
   ],
   "source": [
    "pred['AR1_pred'] =fitted_AR1.predict(start=start,end=end)\n",
    "pred"
   ]
  },
  {
   "cell_type": "code",
   "execution_count": 20,
   "id": "1b8c121c",
   "metadata": {},
   "outputs": [
    {
     "data": {
      "text/plain": [
       "<matplotlib.axes._subplots.AxesSubplot at 0x28254000550>"
      ]
     },
     "execution_count": 20,
     "metadata": {},
     "output_type": "execute_result"
    },
    {
     "data": {
      "image/png": "[encoded data removed]",
      "text/plain": [
       "<Figure size 864x576 with 1 Axes>"
      ]
     },
     "metadata": {
      "needs_background": "light"
     },
     "output_type": "display_data"
    }
   ],
   "source": [
    "pred.plot(figsize=(12,8))"
   ]
  },
  {
   "cell_type": "code",
   "execution_count": 21,
   "id": "2b3c9c07",
   "metadata": {},
   "outputs": [],
   "source": [
    "fitted_AR2 = model.fit(maxlag=2)"
   ]
  },
  {
   "cell_type": "code",
   "execution_count": 22,
   "id": "accd4428",
   "metadata": {},
   "outputs": [
    {
     "data": {
      "text/plain": [
       "const        137.368305\n",
       "L1.PopEst      1.853490\n",
       "L2.PopEst     -0.853836\n",
       "dtype: float64"
      ]
     },
     "execution_count": 22,
     "metadata": {},
     "output_type": "execute_result"
    }
   ],
   "source": [
    "fitted_AR2.params"
   ]
  },
  {
   "cell_type": "code",
   "execution_count": 23,
   "id": "5c0f9502",
   "metadata": {},
   "outputs": [
    {
     "data": {
      "text/plain": [
       "2"
      ]
     },
     "execution_count": 23,
     "metadata": {},
     "output_type": "execute_result"
    }
   ],
   "source": [
    "fitted_AR2.k_ar"
   ]
  },
  {
   "cell_type": "code",
   "execution_count": 24,
   "id": "146e7359",
   "metadata": {},
   "outputs": [
    {
     "data": {
      "text/html": [
       "<div>\n",
       "<style scoped>\n",
       "    .dataframe tbody tr th:only-of-type {\n",
       "        vertical-align: middle;\n",
       "    }\n",
       "\n",
       "    .dataframe tbody tr th {\n",
       "        vertical-align: top;\n",
       "    }\n",
       "\n",
       "    .dataframe thead th {\n",
       "        text-align: right;\n",
       "    }\n",
       "</style>\n",
       "<table border=\"1\" class=\"dataframe\">\n",
       "  <thead>\n",
       "    <tr style=\"text-align: right;\">\n",
       "      <th></th>\n",
       "      <th>PopEst</th>\n",
       "      <th>AR1_pred</th>\n",
       "      <th>AR2_pred</th>\n",
       "    </tr>\n",
       "    <tr>\n",
       "      <th>DATE</th>\n",
       "      <th></th>\n",
       "      <th></th>\n",
       "      <th></th>\n",
       "    </tr>\n",
       "  </thead>\n",
       "  <tbody>\n",
       "    <tr>\n",
       "      <th>2018-01-01</th>\n",
       "      <td>326527</td>\n",
       "      <td>326560.403377</td>\n",
       "      <td>326535.672503</td>\n",
       "    </tr>\n",
       "    <tr>\n",
       "      <th>2018-02-01</th>\n",
       "      <td>326669</td>\n",
       "      <td>326742.749463</td>\n",
       "      <td>326694.718510</td>\n",
       "    </tr>\n",
       "    <tr>\n",
       "      <th>2018-03-01</th>\n",
       "      <td>326812</td>\n",
       "      <td>326925.038278</td>\n",
       "      <td>326854.882250</td>\n",
       "    </tr>\n",
       "    <tr>\n",
       "      <th>2018-04-01</th>\n",
       "      <td>326968</td>\n",
       "      <td>327107.269838</td>\n",
       "      <td>327015.944948</td>\n",
       "    </tr>\n",
       "    <tr>\n",
       "      <th>2018-05-01</th>\n",
       "      <td>327134</td>\n",
       "      <td>327289.444162</td>\n",
       "      <td>327177.719499</td>\n",
       "    </tr>\n",
       "    <tr>\n",
       "      <th>2018-06-01</th>\n",
       "      <td>327312</td>\n",
       "      <td>327471.561268</td>\n",
       "      <td>327340.045896</td>\n",
       "    </tr>\n",
       "    <tr>\n",
       "      <th>2018-07-01</th>\n",
       "      <td>327502</td>\n",
       "      <td>327653.621173</td>\n",
       "      <td>327502.787331</td>\n",
       "    </tr>\n",
       "    <tr>\n",
       "      <th>2018-08-01</th>\n",
       "      <td>327698</td>\n",
       "      <td>327835.623896</td>\n",
       "      <td>327665.826847</td>\n",
       "    </tr>\n",
       "    <tr>\n",
       "      <th>2018-09-01</th>\n",
       "      <td>327893</td>\n",
       "      <td>328017.569455</td>\n",
       "      <td>327829.064480</td>\n",
       "    </tr>\n",
       "    <tr>\n",
       "      <th>2018-10-01</th>\n",
       "      <td>328077</td>\n",
       "      <td>328199.457868</td>\n",
       "      <td>327992.414809</td>\n",
       "    </tr>\n",
       "    <tr>\n",
       "      <th>2018-11-01</th>\n",
       "      <td>328241</td>\n",
       "      <td>328381.289152</td>\n",
       "      <td>328155.804859</td>\n",
       "    </tr>\n",
       "    <tr>\n",
       "      <th>2018-12-01</th>\n",
       "      <td>328393</td>\n",
       "      <td>328563.063326</td>\n",
       "      <td>328319.172308</td>\n",
       "    </tr>\n",
       "  </tbody>\n",
       "</table>\n",
       "</div>"
      ],
      "text/plain": [
       "            PopEst       AR1_pred       AR2_pred\n",
       "DATE                                            \n",
       "2018-01-01  326527  326560.403377  326535.672503\n",
       "2018-02-01  326669  326742.749463  326694.718510\n",
       "2018-03-01  326812  326925.038278  326854.882250\n",
       "2018-04-01  326968  327107.269838  327015.944948\n",
       "2018-05-01  327134  327289.444162  327177.719499\n",
       "2018-06-01  327312  327471.561268  327340.045896\n",
       "2018-07-01  327502  327653.621173  327502.787331\n",
       "2018-08-01  327698  327835.623896  327665.826847\n",
       "2018-09-01  327893  328017.569455  327829.064480\n",
       "2018-10-01  328077  328199.457868  327992.414809\n",
       "2018-11-01  328241  328381.289152  328155.804859\n",
       "2018-12-01  328393  328563.063326  328319.172308"
      ]
     },
     "execution_count": 24,
     "metadata": {},
     "output_type": "execute_result"
    }
   ],
   "source": [
    "pred['AR2_pred'] =fitted_AR2.predict(start=start,end=end)\n",
    "pred"
   ]
  },
  {
   "cell_type": "code",
   "execution_count": 25,
   "id": "e4ce040e",
   "metadata": {},
   "outputs": [
    {
     "data": {
      "text/plain": [
       "<matplotlib.axes._subplots.AxesSubplot at 0x2825429c0b8>"
      ]
     },
     "execution_count": 25,
     "metadata": {},
     "output_type": "execute_result"
    },
    {
     "data": {
      "image/png": "[encoded data removed]",
      "text/plain": [
       "<Figure size 864x576 with 1 Axes>"
      ]
     },
     "metadata": {
      "needs_background": "light"
     },
     "output_type": "display_data"
    }
   ],
   "source": [
    "pred.plot(figsize=(12,8))"
   ]
  },
  {
   "cell_type": "code",
   "execution_count": 26,
   "id": "51dac12d",
   "metadata": {},
   "outputs": [],
   "source": [
    "fitted_AR = model.fit(ic = 't-stat')"
   ]
  },
  {
   "cell_type": "code",
   "execution_count": 27,
   "id": "7b15dd79",
   "metadata": {},
   "outputs": [
    {
     "data": {
      "text/plain": [
       "const        82.309677\n",
       "L1.PopEst     2.437997\n",
       "L2.PopEst    -2.302100\n",
       "L3.PopEst     1.565427\n",
       "L4.PopEst    -1.431211\n",
       "L5.PopEst     1.125022\n",
       "L6.PopEst    -0.919494\n",
       "L7.PopEst     0.963694\n",
       "L8.PopEst    -0.439511\n",
       "dtype: float64"
      ]
     },
     "execution_count": 27,
     "metadata": {},
     "output_type": "execute_result"
    }
   ],
   "source": [
    "fitted_AR.params"
   ]
  },
  {
   "cell_type": "code",
   "execution_count": 28,
   "id": "70b1c171",
   "metadata": {},
   "outputs": [
    {
     "data": {
      "text/html": [
       "<div>\n",
       "<style scoped>\n",
       "    .dataframe tbody tr th:only-of-type {\n",
       "        vertical-align: middle;\n",
       "    }\n",
       "\n",
       "    .dataframe tbody tr th {\n",
       "        vertical-align: top;\n",
       "    }\n",
       "\n",
       "    .dataframe thead th {\n",
       "        text-align: right;\n",
       "    }\n",
       "</style>\n",
       "<table border=\"1\" class=\"dataframe\">\n",
       "  <thead>\n",
       "    <tr style=\"text-align: right;\">\n",
       "      <th></th>\n",
       "      <th>PopEst</th>\n",
       "      <th>AR1_pred</th>\n",
       "      <th>AR2_pred</th>\n",
       "      <th>AR_pred</th>\n",
       "    </tr>\n",
       "    <tr>\n",
       "      <th>DATE</th>\n",
       "      <th></th>\n",
       "      <th></th>\n",
       "      <th></th>\n",
       "      <th></th>\n",
       "    </tr>\n",
       "  </thead>\n",
       "  <tbody>\n",
       "    <tr>\n",
       "      <th>2018-01-01</th>\n",
       "      <td>326527</td>\n",
       "      <td>326560.403377</td>\n",
       "      <td>326535.672503</td>\n",
       "      <td>326523.865559</td>\n",
       "    </tr>\n",
       "    <tr>\n",
       "      <th>2018-02-01</th>\n",
       "      <td>326669</td>\n",
       "      <td>326742.749463</td>\n",
       "      <td>326694.718510</td>\n",
       "      <td>326662.772568</td>\n",
       "    </tr>\n",
       "    <tr>\n",
       "      <th>2018-03-01</th>\n",
       "      <td>326812</td>\n",
       "      <td>326925.038278</td>\n",
       "      <td>326854.882250</td>\n",
       "      <td>326805.746870</td>\n",
       "    </tr>\n",
       "    <tr>\n",
       "      <th>2018-04-01</th>\n",
       "      <td>326968</td>\n",
       "      <td>327107.269838</td>\n",
       "      <td>327015.944948</td>\n",
       "      <td>326960.064201</td>\n",
       "    </tr>\n",
       "    <tr>\n",
       "      <th>2018-05-01</th>\n",
       "      <td>327134</td>\n",
       "      <td>327289.444162</td>\n",
       "      <td>327177.719499</td>\n",
       "      <td>327130.572901</td>\n",
       "    </tr>\n",
       "    <tr>\n",
       "      <th>2018-06-01</th>\n",
       "      <td>327312</td>\n",
       "      <td>327471.561268</td>\n",
       "      <td>327340.045896</td>\n",
       "      <td>327315.962732</td>\n",
       "    </tr>\n",
       "    <tr>\n",
       "      <th>2018-07-01</th>\n",
       "      <td>327502</td>\n",
       "      <td>327653.621173</td>\n",
       "      <td>327502.787331</td>\n",
       "      <td>327511.010032</td>\n",
       "    </tr>\n",
       "    <tr>\n",
       "      <th>2018-08-01</th>\n",
       "      <td>327698</td>\n",
       "      <td>327835.623896</td>\n",
       "      <td>327665.826847</td>\n",
       "      <td>327710.938277</td>\n",
       "    </tr>\n",
       "    <tr>\n",
       "      <th>2018-09-01</th>\n",
       "      <td>327893</td>\n",
       "      <td>328017.569455</td>\n",
       "      <td>327829.064480</td>\n",
       "      <td>327907.425445</td>\n",
       "    </tr>\n",
       "    <tr>\n",
       "      <th>2018-10-01</th>\n",
       "      <td>328077</td>\n",
       "      <td>328199.457868</td>\n",
       "      <td>327992.414809</td>\n",
       "      <td>328092.870664</td>\n",
       "    </tr>\n",
       "    <tr>\n",
       "      <th>2018-11-01</th>\n",
       "      <td>328241</td>\n",
       "      <td>328381.289152</td>\n",
       "      <td>328155.804859</td>\n",
       "      <td>328264.133551</td>\n",
       "    </tr>\n",
       "    <tr>\n",
       "      <th>2018-12-01</th>\n",
       "      <td>328393</td>\n",
       "      <td>328563.063326</td>\n",
       "      <td>328319.172308</td>\n",
       "      <td>328421.667095</td>\n",
       "    </tr>\n",
       "  </tbody>\n",
       "</table>\n",
       "</div>"
      ],
      "text/plain": [
       "            PopEst       AR1_pred       AR2_pred        AR_pred\n",
       "DATE                                                           \n",
       "2018-01-01  326527  326560.403377  326535.672503  326523.865559\n",
       "2018-02-01  326669  326742.749463  326694.718510  326662.772568\n",
       "2018-03-01  326812  326925.038278  326854.882250  326805.746870\n",
       "2018-04-01  326968  327107.269838  327015.944948  326960.064201\n",
       "2018-05-01  327134  327289.444162  327177.719499  327130.572901\n",
       "2018-06-01  327312  327471.561268  327340.045896  327315.962732\n",
       "2018-07-01  327502  327653.621173  327502.787331  327511.010032\n",
       "2018-08-01  327698  327835.623896  327665.826847  327710.938277\n",
       "2018-09-01  327893  328017.569455  327829.064480  327907.425445\n",
       "2018-10-01  328077  328199.457868  327992.414809  328092.870664\n",
       "2018-11-01  328241  328381.289152  328155.804859  328264.133551\n",
       "2018-12-01  328393  328563.063326  328319.172308  328421.667095"
      ]
     },
     "execution_count": 28,
     "metadata": {},
     "output_type": "execute_result"
    }
   ],
   "source": [
    "pred['AR_pred'] =fitted_AR.predict(start=start,end=end)\n",
    "pred"
   ]
  },
  {
   "cell_type": "code",
   "execution_count": 29,
   "id": "a86113ae",
   "metadata": {},
   "outputs": [
    {
     "name": "stdout",
     "output_type": "stream",
     "text": [
      "AR1_pred\n",
      "MAE:  126.75760458594111\n",
      "MSE:  17449.714239577344\n",
      "RMSE:  132.09736651264984\n",
      "\n",
      "\n",
      "AR2_pred\n",
      "MAE:  44.79063616732795\n",
      "MSE:  2713.258615675103\n",
      "RMSE:  52.0889490743968\n",
      "\n",
      "\n",
      "AR_pred\n",
      "MAE:  11.248808045920063\n",
      "MSE:  186.97058618962419\n",
      "RMSE:  13.673718813461983\n",
      "\n",
      "\n"
     ]
    }
   ],
   "source": [
    "pred_lst = ['AR1_pred', 'AR2_pred', 'AR_pred']\n",
    "for count,p in enumerate(pred_lst):\n",
    "    print (p)\n",
    "    reg_eval_metrics(y_true=pred['PopEst'], y_pred=pred[p])\n",
    "    print ('\\n')"
   ]
  },
  {
   "cell_type": "code",
   "execution_count": 30,
   "id": "f5971d91",
   "metadata": {},
   "outputs": [
    {
     "data": {
      "text/plain": [
       "<matplotlib.axes._subplots.AxesSubplot at 0x282540f6be0>"
      ]
     },
     "execution_count": 30,
     "metadata": {},
     "output_type": "execute_result"
    },
    {
     "data": {
      "image/png": "[encoded data removed]",
      "text/plain": [
       "<Figure size 864x576 with 1 Axes>"
      ]
     },
     "metadata": {
      "needs_background": "light"
     },
     "output_type": "display_data"
    }
   ],
   "source": [
    "pred.plot(figsize=(12,8))"
   ]
  },
  {
   "cell_type": "code",
   "execution_count": 31,
   "id": "ca224996",
   "metadata": {},
   "outputs": [
    {
     "name": "stdout",
     "output_type": "stream",
     "text": [
      "            PopEst\n",
      "DATE              \n",
      "2011-01-01  311037\n",
      "            PopEst\n",
      "DATE              \n",
      "2018-12-01  328393\n"
     ]
    }
   ],
   "source": [
    "print (df.head(1))\n",
    "print (df.tail(1))"
   ]
  },
  {
   "cell_type": "markdown",
   "id": "df5799f9",
   "metadata": {},
   "source": [
    "### Forecasting"
   ]
  },
  {
   "cell_type": "code",
   "execution_count": 32,
   "id": "ca89b1cf",
   "metadata": {},
   "outputs": [],
   "source": [
    "final_model = AR(df['PopEst'])\n",
    "\n",
    "fitted_model = final_model.fit()\n",
    "\n",
    "model_pred = fitted_model.predict(start=len(df), end=len(df)+12)"
   ]
  },
  {
   "cell_type": "code",
   "execution_count": 33,
   "id": "60b69f00",
   "metadata": {},
   "outputs": [
    {
     "data": {
      "text/plain": [
       "<matplotlib.axes._subplots.AxesSubplot at 0x282546ba2e8>"
      ]
     },
     "execution_count": 33,
     "metadata": {},
     "output_type": "execute_result"
    },
    {
     "data": {
      "image/png": "[encoded data removed]",
      "text/plain": [
       "<Figure size 864x576 with 1 Axes>"
      ]
     },
     "metadata": {
      "needs_background": "light"
     },
     "output_type": "display_data"
    }
   ],
   "source": [
    "df['PopEst'].plot(figsize=(12,8), legend=True, label='observed_data')\n",
    "model_pred.plot(figsize=(12,8), legend=True, label='model_pred')"
   ]
  },
  {
   "cell_type": "markdown",
   "id": "b8e58ce7",
   "metadata": {},
   "source": [
    "### pmdarima"
   ]
  },
  {
   "cell_type": "code",
   "execution_count": 34,
   "id": "1031ff0d",
   "metadata": {},
   "outputs": [
    {
     "name": "stdout",
     "output_type": "stream",
     "text": [
      "            Thousands of Passengers\n",
      "Month                              \n",
      "1949-01-01                      112\n",
      "1949-02-01                      118\n",
      "1949-03-01                      132\n",
      "1949-04-01                      129\n",
      "1949-05-01                      121\n",
      "            Births\n",
      "Date              \n",
      "1959-01-01      35\n",
      "1959-01-02      32\n",
      "1959-01-03      30\n",
      "1959-01-04      31\n",
      "1959-01-05      44\n"
     ]
    }
   ],
   "source": [
    "# ignore warnings\n",
    "import warnings\n",
    "warnings.filterwarnings('ignore')\n",
    "\n",
    "# import seasonal data\n",
    "df1 = pd.read_csv('../Data/airline_passengers.csv', parse_dates=True, index_col='Month')\n",
    "df1.index.freq = 'MS'\n",
    "print (df1.head())\n",
    "\n",
    "# import non-seasonal data\n",
    "df2 = pd.read_csv('../Data/DailyTotalFemaleBirths.csv', parse_dates=True, index_col='Date')\n",
    "df2.index.freq = 'D'\n",
    "print (df2.head())"
   ]
  },
  {
   "cell_type": "code",
   "execution_count": 35,
   "id": "3b4b5f63",
   "metadata": {},
   "outputs": [],
   "source": [
    "from pmdarima import auto_arima"
   ]
  },
  {
   "cell_type": "code",
   "execution_count": 36,
   "id": "04a00634",
   "metadata": {},
   "outputs": [
    {
     "name": "stdout",
     "output_type": "stream",
     "text": [
      "Help on function auto_arima in module pmdarima.arima.auto:\n",
      "\n",
      "auto_arima(y, exogenous=None, start_p=2, d=None, start_q=2, max_p=5, max_d=2, max_q=5, start_P=1, D=None, start_Q=1, max_P=2, max_D=1, max_Q=2, max_order=10, m=1, seasonal=True, stationary=False, information_criterion='aic', alpha=0.05, test='kpss', seasonal_test='ch', stepwise=True, n_jobs=1, start_params=None, trend=None, method=None, transparams=True, solver='lbfgs', maxiter=50, disp=0, callback=None, offset_test_args=None, seasonal_test_args=None, suppress_warnings=False, error_action='warn', trace=False, random=False, random_state=None, n_fits=10, return_valid_fits=False, out_of_sample_size=0, scoring='mse', scoring_args=None, with_intercept=True, **fit_args)\n",
      "    Automatically discover the optimal order for an ARIMA model.\n",
      "    \n",
      "    The ``auto_arima`` function seeks to identify the most optimal\n",
      "    parameters for an ``ARIMA`` model, and returns a fitted ARIMA model. This\n",
      "    function is based on the commonly-used R function,\n",
      "    ``forecast::auto.arima`` [3].\n",
      "    \n",
      "    The ``auro_arima`` function works by conducting differencing tests (i.e.,\n",
      "    Kwiatkowski–Phillips–Schmidt–Shin, Augmented Dickey-Fuller or\n",
      "    Phillips–Perron) to determine the order of differencing, ``d``, and then\n",
      "    fitting models within ranges of defined ``start_p``, ``max_p``,\n",
      "    ``start_q``, ``max_q`` ranges. If the ``seasonal`` optional is enabled,\n",
      "    ``auto_arima`` also seeks to identify the optimal ``P`` and ``Q`` hyper-\n",
      "    parameters after conducting the Canova-Hansen to determine the optimal\n",
      "    order of seasonal differencing, ``D``.\n",
      "    \n",
      "    In order to find the best model, ``auto_arima`` optimizes for a given\n",
      "    ``information_criterion``, one of {'aic', 'aicc', 'bic', 'hqic', 'oob'}\n",
      "    (Akaike Information Criterion, Corrected Akaike Information Criterion,\n",
      "    Bayesian Information Criterion, Hannan-Quinn Information Criterion, or\n",
      "    \"out of bag\"--for validation scoring--respectively) and returns the ARIMA\n",
      "    which minimizes the value.\n",
      "    \n",
      "    Note that due to stationarity issues, ``auto_arima`` might not find a\n",
      "    suitable model that will converge. If this is the case, a ``ValueError``\n",
      "    will be thrown suggesting stationarity-inducing measures be taken prior\n",
      "    to re-fitting or that a new range of ``order`` values be selected. Non-\n",
      "    stepwise (i.e., essentially a grid search) selection can be slow,\n",
      "    especially for seasonal data. Stepwise algorithm is outlined in Hyndman and\n",
      "    Khandakar (2008).\n",
      "    \n",
      "    Parameters\n",
      "    ----------\n",
      "    y : array-like or iterable, shape=(n_samples,)\n",
      "        The time-series to which to fit the ``ARIMA`` estimator. This may\n",
      "        either be a Pandas ``Series`` object (statsmodels can internally\n",
      "        use the dates in the index), or a numpy array. This should be a\n",
      "        one-dimensional array of floats, and should not contain any\n",
      "        ``np.nan`` or ``np.inf`` values.\n",
      "    \n",
      "    exogenous : array-like, shape=[n_obs, n_vars], optional (default=None)\n",
      "        An optional 2-d array of exogenous variables. If provided, these\n",
      "        variables are used as additional features in the regression\n",
      "        operation. This should not include a constant or trend. Note that\n",
      "        if an ``ARIMA`` is fit on exogenous features, it must be provided\n",
      "        exogenous features for making predictions.\n",
      "    \n",
      "    start_p : int, optional (default=2)\n",
      "        The starting value of ``p``, the order (or number of time lags)\n",
      "        of the auto-regressive (\"AR\") model. Must be a positive integer.\n",
      "    \n",
      "    d : int, optional (default=None)\n",
      "        The order of first-differencing. If None (by default), the value\n",
      "        will automatically be selected based on the results of the ``test``\n",
      "        (i.e., either the Kwiatkowski–Phillips–Schmidt–Shin, Augmented\n",
      "        Dickey-Fuller or the Phillips–Perron test will be conducted to find\n",
      "        the most probable value). Must be a positive integer or None. Note\n",
      "        that if ``d`` is None, the runtime could be significantly longer.\n",
      "    \n",
      "    start_q : int, optional (default=2)\n",
      "        The starting value of ``q``, the order of the moving-average\n",
      "        (\"MA\") model. Must be a positive integer.\n",
      "    \n",
      "    max_p : int, optional (default=5)\n",
      "        The maximum value of ``p``, inclusive. Must be a positive integer\n",
      "        greater than or equal to ``start_p``.\n",
      "    \n",
      "    max_d : int, optional (default=2)\n",
      "        The maximum value of ``d``, or the maximum number of non-seasonal\n",
      "        differences. Must be a positive integer greater than or equal to ``d``.\n",
      "    \n",
      "    max_q : int, optional (default=5)\n",
      "        The maximum value of ``q``, inclusive. Must be a positive integer\n",
      "        greater than ``start_q``.\n",
      "    \n",
      "    start_P : int, optional (default=1)\n",
      "        The starting value of ``P``, the order of the auto-regressive portion\n",
      "        of the seasonal model.\n",
      "    \n",
      "    D : int, optional (default=None)\n",
      "        The order of the seasonal differencing. If None (by default, the value\n",
      "        will automatically be selected based on the results of the\n",
      "        ``seasonal_test``. Must be a positive integer or None.\n",
      "    \n",
      "    start_Q : int, optional (default=1)\n",
      "        The starting value of ``Q``, the order of the moving-average portion\n",
      "        of the seasonal model.\n",
      "    \n",
      "    max_P : int, optional (default=2)\n",
      "        The maximum value of ``P``, inclusive. Must be a positive integer\n",
      "        greater than ``start_P``.\n",
      "    \n",
      "    max_D : int, optional (default=1)\n",
      "        The maximum value of ``D``. Must be a positive integer greater\n",
      "        than ``D``.\n",
      "    \n",
      "    max_Q : int, optional (default=2)\n",
      "        The maximum value of ``Q``, inclusive. Must be a positive integer\n",
      "        greater than ``start_Q``.\n",
      "    \n",
      "    max_order : int, optional (default=10)\n",
      "        If the sum of ``p`` and ``q`` is >= ``max_order``, a model will\n",
      "        *not* be fit with those parameters, but will progress to the next\n",
      "        combination. Default is 5. If ``max_order`` is None, it means there\n",
      "        are no constraints on maximum order.\n",
      "    \n",
      "    m : int, optional (default=1)\n",
      "        The period for seasonal differencing, ``m`` refers to the number of\n",
      "        periods in each season. For example, ``m`` is 4 for quarterly data, 12\n",
      "        for monthly data, or 1 for annual (non-seasonal) data. Default is 1.\n",
      "        Note that if ``m`` == 1 (i.e., is non-seasonal), ``seasonal`` will be\n",
      "        set to False. For more information on setting this parameter, see\n",
      "        :ref:`period`.\n",
      "    \n",
      "    seasonal : bool, optional (default=True)\n",
      "        Whether to fit a seasonal ARIMA. Default is True. Note that if\n",
      "        ``seasonal`` is True and ``m`` == 1, ``seasonal`` will be set to False.\n",
      "    \n",
      "    stationary : bool, optional (default=False)\n",
      "        Whether the time-series is stationary and ``d`` should be set to zero.\n",
      "    \n",
      "    information_criterion : str, optional (default='aic')\n",
      "        The information criterion used to select the best ARIMA model. One of\n",
      "        ``pmdarima.arima.auto_arima.VALID_CRITERIA``, ('aic', 'bic', 'hqic',\n",
      "        'oob').\n",
      "    \n",
      "    alpha : float, optional (default=0.05)\n",
      "        Level of the test for testing significance.\n",
      "    \n",
      "    test : str, optional (default='kpss')\n",
      "        Type of unit root test to use in order to detect stationarity if\n",
      "        ``stationary`` is False and ``d`` is None. Default is 'kpss'\n",
      "        (Kwiatkowski–Phillips–Schmidt–Shin).\n",
      "    \n",
      "    seasonal_test : str, optional (default='ch')\n",
      "        This determines which seasonal unit root test is used if ``seasonal``\n",
      "        is True and ``D`` is None. Default is 'ch' (Canova-Hansen).\n",
      "    \n",
      "    stepwise : bool, optional (default=True)\n",
      "        Whether to use the stepwise algorithm outlined in Hyndman and Khandakar\n",
      "        (2008) to identify the optimal model parameters. The stepwise algorithm\n",
      "        can be significantly faster than fitting all (or a ``random`` subset\n",
      "        of) hyper-parameter combinations and is less likely to over-fit\n",
      "        the model.\n",
      "    \n",
      "    n_jobs : int, optional (default=1)\n",
      "        The number of models to fit in parallel in the case of a grid search\n",
      "        (``stepwise=False``). Default is 1, but -1 can be used to designate\n",
      "        \"as many as possible\".\n",
      "    \n",
      "    start_params : array-like, optional (default=None)\n",
      "        Starting parameters for ``ARMA(p,q)``.  If None, the default is given\n",
      "        by ``ARMA._fit_start_params``.\n",
      "    \n",
      "    transparams : bool, optional (default=True)\n",
      "        Whether or not to transform the parameters to ensure stationarity.\n",
      "        Uses the transformation suggested in Jones (1980).  If False,\n",
      "        no checking for stationarity or invertibility is done.\n",
      "    \n",
      "    method : str, one of {'css-mle','mle','css'}, optional (default=None)\n",
      "        This is the loglikelihood to maximize.  If \"css-mle\", the\n",
      "        conditional sum of squares likelihood is maximized and its values\n",
      "        are used as starting values for the computation of the exact\n",
      "        likelihood via the Kalman filter.  If \"mle\", the exact likelihood\n",
      "        is maximized via the Kalman Filter.  If \"css\" the conditional sum\n",
      "        of squares likelihood is maximized.  All three methods use\n",
      "        `start_params` as starting parameters.  See above for more\n",
      "        information. If fitting a seasonal ARIMA, the default is 'lbfgs'\n",
      "    \n",
      "    trend : str or None, optional (default=None)\n",
      "        The trend parameter. If ``with_intercept`` is True, ``trend`` will be\n",
      "        used. If ``with_intercept`` is False, the trend will be set to a no-\n",
      "        intercept value.\n",
      "    \n",
      "    solver : str or None, optional (default='lbfgs')\n",
      "        Solver to be used.  The default is 'lbfgs' (limited memory\n",
      "        Broyden-Fletcher-Goldfarb-Shanno).  Other choices are 'bfgs',\n",
      "        'newton' (Newton-Raphson), 'nm' (Nelder-Mead), 'cg' -\n",
      "        (conjugate gradient), 'ncg' (non-conjugate gradient), and\n",
      "        'powell'. By default, the limited memory BFGS uses m=12 to\n",
      "        approximate the Hessian, projected gradient tolerance of 1e-8 and\n",
      "        factr = 1e2. You can change these by using kwargs.\n",
      "    \n",
      "    maxiter : int, optional (default=50)\n",
      "        The maximum number of function evaluations. Default is 50.\n",
      "    \n",
      "    disp : int, optional (default=0)\n",
      "        If True, convergence information is printed.  For the default\n",
      "        'lbfgs' ``solver``, disp controls the frequency of the output during\n",
      "        the iterations. disp < 0 means no output in this case.\n",
      "    \n",
      "    callback : callable, optional (default=None)\n",
      "        Called after each iteration as callback(xk) where xk is the current\n",
      "        parameter vector. This is only used in non-seasonal ARIMA models.\n",
      "    \n",
      "    offset_test_args : dict, optional (default=None)\n",
      "        The args to pass to the constructor of the offset (``d``) test. See\n",
      "        ``pmdarima.arima.stationarity`` for more details.\n",
      "    \n",
      "    seasonal_test_args : dict, optional (default=None)\n",
      "        The args to pass to the constructor of the seasonal offset (``D``)\n",
      "        test. See ``pmdarima.arima.seasonality`` for more details.\n",
      "    \n",
      "    suppress_warnings : bool, optional (default=False)\n",
      "        Many warnings might be thrown inside of statsmodels. If\n",
      "        ``suppress_warnings`` is True, all of the warnings coming from\n",
      "        ``ARIMA`` will be squelched.\n",
      "    \n",
      "    error_action : str, optional (default='warn')\n",
      "        If unable to fit an ``ARIMA`` due to stationarity issues, whether to\n",
      "        warn ('warn'), raise the ``ValueError`` ('raise') or ignore ('ignore').\n",
      "        Note that the default behavior is to warn, and fits that fail will be\n",
      "        returned as None. This is the recommended behavior, as statsmodels\n",
      "        ARIMA and SARIMAX models hit bugs periodically that can cause\n",
      "        an otherwise healthy parameter combination to fail for reasons not\n",
      "        related to pmdarima.\n",
      "    \n",
      "    trace : bool, optional (default=False)\n",
      "        Whether to print status on the fits. Note that this can be\n",
      "        very verbose...\n",
      "    \n",
      "    random : bool, optional (default=False)\n",
      "        Similar to grid searches, ``auto_arima`` provides the capability to\n",
      "        perform a \"random search\" over a hyper-parameter space. If ``random``\n",
      "        is True, rather than perform an exhaustive search or ``stepwise``\n",
      "        search, only ``n_fits`` ARIMA models will be fit (``stepwise`` must be\n",
      "        False for this option to do anything).\n",
      "    \n",
      "    random_state : int, long or numpy ``RandomState``, optional (default=None)\n",
      "        The PRNG for when ``random=True``. Ensures replicable testing and\n",
      "        results.\n",
      "    \n",
      "    n_fits : int, optional (default=10)\n",
      "        If ``random`` is True and a \"random search\" is going to be performed,\n",
      "        ``n_iter`` is the number of ARIMA models to be fit.\n",
      "    \n",
      "    return_valid_fits : bool, optional (default=False)\n",
      "        If True, will return all valid ARIMA fits in a list. If False (by\n",
      "        default), will only return the best fit.\n",
      "    \n",
      "    out_of_sample_size : int, optional (default=0)\n",
      "        The ``ARIMA`` class can fit only a portion of the data if specified,\n",
      "        in order to retain an \"out of bag\" sample score. This is the\n",
      "        number of examples from the tail of the time series to hold out\n",
      "        and use as validation examples. The model will not be fit on these\n",
      "        samples, but the observations will be added into the model's ``endog``\n",
      "        and ``exog`` arrays so that future forecast values originate from the\n",
      "        end of the endogenous vector.\n",
      "    \n",
      "        For instance::\n",
      "    \n",
      "            y = [0, 1, 2, 3, 4, 5, 6]\n",
      "            out_of_sample_size = 2\n",
      "    \n",
      "            > Fit on: [0, 1, 2, 3, 4]\n",
      "            > Score on: [5, 6]\n",
      "            > Append [5, 6] to end of self.arima_res_.data.endog values\n",
      "    \n",
      "    scoring : str, optional (default='mse')\n",
      "        If performing validation (i.e., if ``out_of_sample_size`` > 0), the\n",
      "        metric to use for scoring the out-of-sample data. One of {'mse', 'mae'}\n",
      "    \n",
      "    scoring_args : dict, optional (default=None)\n",
      "        A dictionary of key-word arguments to be passed to the ``scoring``\n",
      "        metric.\n",
      "    \n",
      "    with_intercept : bool, optional (default=True)\n",
      "        Whether to include an intercept term. Default is True.\n",
      "    \n",
      "    **fit_args : dict, optional (default=None)\n",
      "        A dictionary of keyword arguments to pass to the :func:`ARIMA.fit`\n",
      "        method.\n",
      "    \n",
      "    See Also\n",
      "    --------\n",
      "    :func:`pmdarima.arima.ARIMA`\n",
      "    \n",
      "    Notes\n",
      "    -----\n",
      "    Fitting with `stepwise=False` can prove slower, especially when\n",
      "    `seasonal=True`.\n",
      "    \n",
      "    References\n",
      "    ----------\n",
      "    .. [1] https://wikipedia.org/wiki/Autoregressive_integrated_moving_average\n",
      "    .. [2] R's auto-arima source code: http://bit.ly/2gOh5z2\n",
      "    .. [3] R's auto-arima documentation: http://bit.ly/2wbBvUN\n",
      "\n"
     ]
    }
   ],
   "source": [
    "help(auto_arima)"
   ]
  },
  {
   "cell_type": "code",
   "execution_count": 37,
   "id": "c016c190",
   "metadata": {},
   "outputs": [
    {
     "name": "stdout",
     "output_type": "stream",
     "text": [
      "Fit ARIMA: order=(0, 1, 0); AIC=2650.760, BIC=2658.555, Fit time=0.000 seconds\n",
      "Fit ARIMA: order=(1, 1, 0); AIC=2565.234, BIC=2576.925, Fit time=0.016 seconds\n",
      "Fit ARIMA: order=(0, 1, 1); AIC=2463.584, BIC=2475.275, Fit time=0.044 seconds\n",
      "Fit ARIMA: order=(1, 1, 1); AIC=2460.154, BIC=2475.742, Fit time=0.062 seconds\n",
      "Fit ARIMA: order=(1, 1, 2); AIC=2460.515, BIC=2480.001, Fit time=0.282 seconds\n",
      "Fit ARIMA: order=(2, 1, 2); AIC=2461.885, BIC=2485.268, Fit time=0.378 seconds\n",
      "Fit ARIMA: order=(2, 1, 1); AIC=2461.271, BIC=2480.757, Fit time=0.162 seconds\n",
      "Total fit time: 0.960 seconds\n"
     ]
    },
    {
     "name": "stderr",
     "output_type": "stream",
     "text": [
      "C:\\Users\\HP\\anaconda3\\envs\\tsa_course\\lib\\site-packages\\statsmodels\\base\\model.py:508: ConvergenceWarning: Maximum Likelihood optimization failed to converge. Check mle_retvals\n",
      "  \"Check mle_retvals\", ConvergenceWarning)\n"
     ]
    }
   ],
   "source": [
    "stepwise_fit = auto_arima(df2['Births'], start_p=0, start_q=0, max_p=6, max_q=3, seasonal=False, trace=True)"
   ]
  },
  {
   "cell_type": "code",
   "execution_count": 38,
   "id": "1808b416",
   "metadata": {},
   "outputs": [
    {
     "data": {
      "text/html": [
       "<table class=\"simpletable\">\n",
       "<caption>ARIMA Model Results</caption>\n",
       "<tr>\n",
       "  <th>Dep. Variable:</th>        <td>D.y</td>       <th>  No. Observations:  </th>    <td>364</td>   \n",
       "</tr>\n",
       "<tr>\n",
       "  <th>Model:</th>          <td>ARIMA(1, 1, 1)</td>  <th>  Log Likelihood     </th> <td>-1226.077</td>\n",
       "</tr>\n",
       "<tr>\n",
       "  <th>Method:</th>             <td>css-mle</td>     <th>  S.D. of innovations</th>   <td>7.000</td>  \n",
       "</tr>\n",
       "<tr>\n",
       "  <th>Date:</th>          <td>Fri, 18 Mar 2022</td> <th>  AIC                </th> <td>2460.154</td> \n",
       "</tr>\n",
       "<tr>\n",
       "  <th>Time:</th>              <td>11:10:02</td>     <th>  BIC                </th> <td>2475.742</td> \n",
       "</tr>\n",
       "<tr>\n",
       "  <th>Sample:</th>                <td>1</td>        <th>  HQIC               </th> <td>2466.350</td> \n",
       "</tr>\n",
       "<tr>\n",
       "  <th></th>                       <td> </td>        <th>                     </th>     <td> </td>    \n",
       "</tr>\n",
       "</table>\n",
       "<table class=\"simpletable\">\n",
       "<tr>\n",
       "      <td></td>         <th>coef</th>     <th>std err</th>      <th>z</th>      <th>P>|z|</th>  <th>[0.025</th>    <th>0.975]</th>  \n",
       "</tr>\n",
       "<tr>\n",
       "  <th>const</th>     <td>    0.0152</td> <td>    0.014</td> <td>    1.068</td> <td> 0.286</td> <td>   -0.013</td> <td>    0.043</td>\n",
       "</tr>\n",
       "<tr>\n",
       "  <th>ar.L1.D.y</th> <td>    0.1299</td> <td>    0.056</td> <td>    2.334</td> <td> 0.020</td> <td>    0.021</td> <td>    0.239</td>\n",
       "</tr>\n",
       "<tr>\n",
       "  <th>ma.L1.D.y</th> <td>   -0.9694</td> <td>    0.019</td> <td>  -51.415</td> <td> 0.000</td> <td>   -1.006</td> <td>   -0.932</td>\n",
       "</tr>\n",
       "</table>\n",
       "<table class=\"simpletable\">\n",
       "<caption>Roots</caption>\n",
       "<tr>\n",
       "    <td></td>   <th>            Real</th>  <th>         Imaginary</th> <th>         Modulus</th>  <th>        Frequency</th>\n",
       "</tr>\n",
       "<tr>\n",
       "  <th>AR.1</th> <td>           7.6996</td> <td>          +0.0000j</td> <td>           7.6996</td> <td>           0.0000</td>\n",
       "</tr>\n",
       "<tr>\n",
       "  <th>MA.1</th> <td>           1.0316</td> <td>          +0.0000j</td> <td>           1.0316</td> <td>           0.0000</td>\n",
       "</tr>\n",
       "</table>"
      ],
      "text/plain": [
       "<class 'statsmodels.iolib.summary.Summary'>\n",
       "\"\"\"\n",
       "                             ARIMA Model Results                              \n",
       "==============================================================================\n",
       "Dep. Variable:                    D.y   No. Observations:                  364\n",
       "Model:                 ARIMA(1, 1, 1)   Log Likelihood               -1226.077\n",
       "Method:                       css-mle   S.D. of innovations              7.000\n",
       "Date:                Fri, 18 Mar 2022   AIC                           2460.154\n",
       "Time:                        11:10:02   BIC                           2475.742\n",
       "Sample:                             1   HQIC                          2466.350\n",
       "                                                                              \n",
       "==============================================================================\n",
       "                 coef    std err          z      P>|z|      [0.025      0.975]\n",
       "------------------------------------------------------------------------------\n",
       "const          0.0152      0.014      1.068      0.286      -0.013       0.043\n",
       "ar.L1.D.y      0.1299      0.056      2.334      0.020       0.021       0.239\n",
       "ma.L1.D.y     -0.9694      0.019    -51.415      0.000      -1.006      -0.932\n",
       "                                    Roots                                    \n",
       "=============================================================================\n",
       "                  Real          Imaginary           Modulus         Frequency\n",
       "-----------------------------------------------------------------------------\n",
       "AR.1            7.6996           +0.0000j            7.6996            0.0000\n",
       "MA.1            1.0316           +0.0000j            1.0316            0.0000\n",
       "-----------------------------------------------------------------------------\n",
       "\"\"\""
      ]
     },
     "execution_count": 38,
     "metadata": {},
     "output_type": "execute_result"
    }
   ],
   "source": [
    "stepwise_fit.summary()"
   ]
  },
  {
   "cell_type": "code",
   "execution_count": 39,
   "id": "51243ad7",
   "metadata": {},
   "outputs": [
    {
     "name": "stdout",
     "output_type": "stream",
     "text": [
      "Fit ARIMA: order=(0, 1, 0) seasonal_order=(1, 0, 1, 12); AIC=nan, BIC=nan, Fit time=nan seconds\n",
      "Fit ARIMA: order=(0, 1, 0) seasonal_order=(0, 0, 0, 12); AIC=1415.278, BIC=1421.203, Fit time=0.034 seconds\n",
      "Fit ARIMA: order=(1, 1, 0) seasonal_order=(1, 0, 0, 12); AIC=nan, BIC=nan, Fit time=nan seconds\n",
      "Fit ARIMA: order=(0, 1, 1) seasonal_order=(0, 0, 1, 12); AIC=1299.259, BIC=1311.110, Fit time=0.148 seconds\n",
      "Fit ARIMA: order=(0, 1, 1) seasonal_order=(1, 0, 1, 12); AIC=nan, BIC=nan, Fit time=nan seconds\n",
      "Fit ARIMA: order=(0, 1, 1) seasonal_order=(0, 0, 0, 12); AIC=1398.827, BIC=1407.716, Fit time=0.084 seconds\n",
      "Fit ARIMA: order=(0, 1, 1) seasonal_order=(0, 0, 2, 12); AIC=nan, BIC=nan, Fit time=nan seconds\n",
      "Fit ARIMA: order=(0, 1, 1) seasonal_order=(1, 0, 2, 12); AIC=nan, BIC=nan, Fit time=nan seconds\n",
      "Fit ARIMA: order=(1, 1, 1) seasonal_order=(0, 0, 1, 12); AIC=1301.228, BIC=1316.042, Fit time=0.209 seconds\n",
      "Fit ARIMA: order=(0, 1, 0) seasonal_order=(0, 0, 1, 12); AIC=1304.383, BIC=1313.271, Fit time=0.109 seconds\n",
      "Fit ARIMA: order=(0, 1, 2) seasonal_order=(0, 0, 1, 12); AIC=1301.136, BIC=1315.950, Fit time=0.162 seconds\n"
     ]
    },
    {
     "name": "stderr",
     "output_type": "stream",
     "text": [
      "C:\\Users\\HP\\anaconda3\\envs\\tsa_course\\lib\\site-packages\\statsmodels\\base\\model.py:508: ConvergenceWarning: Maximum Likelihood optimization failed to converge. Check mle_retvals\n",
      "  \"Check mle_retvals\", ConvergenceWarning)\n"
     ]
    },
    {
     "name": "stdout",
     "output_type": "stream",
     "text": [
      "Fit ARIMA: order=(1, 1, 2) seasonal_order=(0, 0, 1, 12); AIC=1278.175, BIC=1295.952, Fit time=0.460 seconds\n",
      "Fit ARIMA: order=(1, 1, 2) seasonal_order=(1, 0, 1, 12); AIC=nan, BIC=nan, Fit time=nan seconds\n",
      "Fit ARIMA: order=(1, 1, 2) seasonal_order=(0, 0, 0, 12); AIC=1371.827, BIC=1386.641, Fit time=0.127 seconds\n",
      "Fit ARIMA: order=(1, 1, 2) seasonal_order=(0, 0, 2, 12); AIC=nan, BIC=nan, Fit time=nan seconds\n",
      "Fit ARIMA: order=(1, 1, 2) seasonal_order=(1, 0, 2, 12); AIC=nan, BIC=nan, Fit time=nan seconds\n",
      "Fit ARIMA: order=(2, 1, 2) seasonal_order=(0, 0, 1, 12); AIC=1267.601, BIC=1288.341, Fit time=0.384 seconds\n"
     ]
    },
    {
     "name": "stderr",
     "output_type": "stream",
     "text": [
      "C:\\Users\\HP\\anaconda3\\envs\\tsa_course\\lib\\site-packages\\statsmodels\\base\\model.py:508: ConvergenceWarning: Maximum Likelihood optimization failed to converge. Check mle_retvals\n",
      "  \"Check mle_retvals\", ConvergenceWarning)\n"
     ]
    },
    {
     "name": "stdout",
     "output_type": "stream",
     "text": [
      "Fit ARIMA: order=(2, 1, 1) seasonal_order=(0, 0, 1, 12); AIC=1269.486, BIC=1287.263, Fit time=0.482 seconds\n",
      "Fit ARIMA: order=(2, 1, 3) seasonal_order=(0, 0, 1, 12); AIC=nan, BIC=nan, Fit time=nan seconds\n",
      "Fit ARIMA: order=(3, 1, 3) seasonal_order=(0, 0, 1, 12); AIC=nan, BIC=nan, Fit time=nan seconds\n",
      "Fit ARIMA: order=(2, 1, 2) seasonal_order=(1, 0, 1, 12); AIC=nan, BIC=nan, Fit time=nan seconds\n",
      "Fit ARIMA: order=(2, 1, 2) seasonal_order=(0, 0, 0, 12); AIC=1344.044, BIC=1361.821, Fit time=0.336 seconds\n",
      "Fit ARIMA: order=(2, 1, 2) seasonal_order=(0, 0, 2, 12); AIC=nan, BIC=nan, Fit time=nan seconds\n",
      "Fit ARIMA: order=(2, 1, 2) seasonal_order=(1, 0, 2, 12); AIC=nan, BIC=nan, Fit time=nan seconds\n",
      "Fit ARIMA: order=(3, 1, 2) seasonal_order=(0, 0, 1, 12); AIC=nan, BIC=nan, Fit time=nan seconds\n",
      "Total fit time: 2.572 seconds\n"
     ]
    },
    {
     "name": "stderr",
     "output_type": "stream",
     "text": [
      "C:\\Users\\HP\\anaconda3\\envs\\tsa_course\\lib\\site-packages\\statsmodels\\base\\model.py:508: ConvergenceWarning: Maximum Likelihood optimization failed to converge. Check mle_retvals\n",
      "  \"Check mle_retvals\", ConvergenceWarning)\n"
     ]
    }
   ],
   "source": [
    "stepwise_fit = auto_arima(df1['Thousands of Passengers'], start_p=0, start_q=0, max_p=4, max_q=4, \n",
    "                          seasonal=True, trace=True, m=12)"
   ]
  },
  {
   "cell_type": "code",
   "execution_count": 40,
   "id": "6f8aca80",
   "metadata": {},
   "outputs": [
    {
     "data": {
      "text/html": [
       "<table class=\"simpletable\">\n",
       "<caption>Statespace Model Results</caption>\n",
       "<tr>\n",
       "  <th>Dep. Variable:</th>                  <td>y</td>               <th>  No. Observations:  </th>    <td>144</td>  \n",
       "</tr>\n",
       "<tr>\n",
       "  <th>Model:</th>           <td>SARIMAX(2, 1, 2)x(0, 0, 1, 12)</td> <th>  Log Likelihood     </th> <td>-626.801</td>\n",
       "</tr>\n",
       "<tr>\n",
       "  <th>Date:</th>                   <td>Fri, 18 Mar 2022</td>        <th>  AIC                </th> <td>1267.601</td>\n",
       "</tr>\n",
       "<tr>\n",
       "  <th>Time:</th>                       <td>11:10:05</td>            <th>  BIC                </th> <td>1288.341</td>\n",
       "</tr>\n",
       "<tr>\n",
       "  <th>Sample:</th>                         <td>0</td>               <th>  HQIC               </th> <td>1276.029</td>\n",
       "</tr>\n",
       "<tr>\n",
       "  <th></th>                             <td> - 144</td>             <th>                     </th>     <td> </td>   \n",
       "</tr>\n",
       "<tr>\n",
       "  <th>Covariance Type:</th>               <td>opg</td>              <th>                     </th>     <td> </td>   \n",
       "</tr>\n",
       "</table>\n",
       "<table class=\"simpletable\">\n",
       "<tr>\n",
       "      <td></td>         <th>coef</th>     <th>std err</th>      <th>z</th>      <th>P>|z|</th>  <th>[0.025</th>    <th>0.975]</th>  \n",
       "</tr>\n",
       "<tr>\n",
       "  <th>intercept</th> <td>    0.7024</td> <td>    0.168</td> <td>    4.169</td> <td> 0.000</td> <td>    0.372</td> <td>    1.033</td>\n",
       "</tr>\n",
       "<tr>\n",
       "  <th>ar.L1</th>     <td>    1.4368</td> <td>    0.109</td> <td>   13.169</td> <td> 0.000</td> <td>    1.223</td> <td>    1.651</td>\n",
       "</tr>\n",
       "<tr>\n",
       "  <th>ar.L2</th>     <td>   -0.7066</td> <td>    0.080</td> <td>   -8.815</td> <td> 0.000</td> <td>   -0.864</td> <td>   -0.549</td>\n",
       "</tr>\n",
       "<tr>\n",
       "  <th>ma.L1</th>     <td>   -1.4832</td> <td>    0.174</td> <td>   -8.524</td> <td> 0.000</td> <td>   -1.824</td> <td>   -1.142</td>\n",
       "</tr>\n",
       "<tr>\n",
       "  <th>ma.L2</th>     <td>    0.5033</td> <td>    0.175</td> <td>    2.877</td> <td> 0.004</td> <td>    0.160</td> <td>    0.846</td>\n",
       "</tr>\n",
       "<tr>\n",
       "  <th>ma.S.L12</th>  <td>    0.7444</td> <td>    0.077</td> <td>    9.730</td> <td> 0.000</td> <td>    0.594</td> <td>    0.894</td>\n",
       "</tr>\n",
       "<tr>\n",
       "  <th>sigma2</th>    <td>  345.6775</td> <td>   37.222</td> <td>    9.287</td> <td> 0.000</td> <td>  272.723</td> <td>  418.631</td>\n",
       "</tr>\n",
       "</table>\n",
       "<table class=\"simpletable\">\n",
       "<tr>\n",
       "  <th>Ljung-Box (Q):</th>          <td>164.01</td> <th>  Jarque-Bera (JB):  </th> <td>10.84</td>\n",
       "</tr>\n",
       "<tr>\n",
       "  <th>Prob(Q):</th>                 <td>0.00</td>  <th>  Prob(JB):          </th> <td>0.00</td> \n",
       "</tr>\n",
       "<tr>\n",
       "  <th>Heteroskedasticity (H):</th>  <td>5.46</td>  <th>  Skew:              </th> <td>0.46</td> \n",
       "</tr>\n",
       "<tr>\n",
       "  <th>Prob(H) (two-sided):</th>     <td>0.00</td>  <th>  Kurtosis:          </th> <td>3.98</td> \n",
       "</tr>\n",
       "</table><br/><br/>Warnings:<br/>[1] Covariance matrix calculated using the outer product of gradients (complex-step)."
      ],
      "text/plain": [
       "<class 'statsmodels.iolib.summary.Summary'>\n",
       "\"\"\"\n",
       "                                 Statespace Model Results                                 \n",
       "==========================================================================================\n",
       "Dep. Variable:                                  y   No. Observations:                  144\n",
       "Model:             SARIMAX(2, 1, 2)x(0, 0, 1, 12)   Log Likelihood                -626.801\n",
       "Date:                            Fri, 18 Mar 2022   AIC                           1267.601\n",
       "Time:                                    11:10:05   BIC                           1288.341\n",
       "Sample:                                         0   HQIC                          1276.029\n",
       "                                            - 144                                         \n",
       "Covariance Type:                              opg                                         \n",
       "==============================================================================\n",
       "                 coef    std err          z      P>|z|      [0.025      0.975]\n",
       "------------------------------------------------------------------------------\n",
       "intercept      0.7024      0.168      4.169      0.000       0.372       1.033\n",
       "ar.L1          1.4368      0.109     13.169      0.000       1.223       1.651\n",
       "ar.L2         -0.7066      0.080     -8.815      0.000      -0.864      -0.549\n",
       "ma.L1         -1.4832      0.174     -8.524      0.000      -1.824      -1.142\n",
       "ma.L2          0.5033      0.175      2.877      0.004       0.160       0.846\n",
       "ma.S.L12       0.7444      0.077      9.730      0.000       0.594       0.894\n",
       "sigma2       345.6775     37.222      9.287      0.000     272.723     418.631\n",
       "===================================================================================\n",
       "Ljung-Box (Q):                      164.01   Jarque-Bera (JB):                10.84\n",
       "Prob(Q):                              0.00   Prob(JB):                         0.00\n",
       "Heteroskedasticity (H):               5.46   Skew:                             0.46\n",
       "Prob(H) (two-sided):                  0.00   Kurtosis:                         3.98\n",
       "===================================================================================\n",
       "\n",
       "Warnings:\n",
       "[1] Covariance matrix calculated using the outer product of gradients (complex-step).\n",
       "\"\"\""
      ]
     },
     "execution_count": 40,
     "metadata": {},
     "output_type": "execute_result"
    }
   ],
   "source": [
    "stepwise_fit.summary()"
   ]
  },
  {
   "cell_type": "markdown",
   "id": "7bb7baea",
   "metadata": {},
   "source": [
    "### ARMA and ARIMA"
   ]
  },
  {
   "cell_type": "code",
   "execution_count": 41,
   "id": "974e4a38",
   "metadata": {},
   "outputs": [],
   "source": [
    "from statsmodels.tsa.arima_model import ARMA,ARIMA,ARMAResults,ARIMAResults"
   ]
  },
  {
   "cell_type": "code",
   "execution_count": 42,
   "id": "29d85e2b",
   "metadata": {},
   "outputs": [],
   "source": [
    "from statsmodels.graphics.tsaplots import plot_acf, plot_pacf"
   ]
  },
  {
   "cell_type": "code",
   "execution_count": 43,
   "id": "6482b34e",
   "metadata": {},
   "outputs": [],
   "source": [
    "df1 = pd.read_csv('../Data/DailyTotalFemaleBirths.csv', parse_dates=True, index_col='Date')\n",
    "df1.index.freq = 'D'\n",
    "df1 = df1[:120]"
   ]
  },
  {
   "cell_type": "code",
   "execution_count": 44,
   "id": "19f30275",
   "metadata": {},
   "outputs": [],
   "source": [
    "df2 = pd.read_csv('../Data/TradeInventories.csv', parse_dates=True, index_col='Date')\n",
    "df2.index.freq = 'MS'"
   ]
  },
  {
   "cell_type": "code",
   "execution_count": 45,
   "id": "f644473d",
   "metadata": {},
   "outputs": [
    {
     "name": "stdout",
     "output_type": "stream",
     "text": [
      "            Births\n",
      "Date              \n",
      "1959-01-01      35\n",
      "1959-01-02      32\n",
      "1959-01-03      30\n",
      "1959-01-04      31\n",
      "1959-01-05      44\n",
      "            Inventories\n",
      "Date                   \n",
      "1997-01-01      1301161\n",
      "1997-02-01      1307080\n",
      "1997-03-01      1303978\n",
      "1997-04-01      1319740\n",
      "1997-05-01      1327294\n"
     ]
    }
   ],
   "source": [
    "print (df1.head())\n",
    "print (df2.head())"
   ]
  },
  {
   "cell_type": "code",
   "execution_count": 46,
   "id": "13b31486",
   "metadata": {},
   "outputs": [
    {
     "data": {
      "text/plain": [
       "<matplotlib.axes._subplots.AxesSubplot at 0x28255725b70>"
      ]
     },
     "execution_count": 46,
     "metadata": {},
     "output_type": "execute_result"
    },
    {
     "data": {
      "image/png": "[encoded data removed]",
      "text/plain": [
       "<Figure size 864x432 with 1 Axes>"
      ]
     },
     "metadata": {
      "needs_background": "light"
     },
     "output_type": "display_data"
    }
   ],
   "source": [
    "df1['Births'].plot(figsize=(12,6))"
   ]
  },
  {
   "cell_type": "markdown",
   "id": "71a60d1b",
   "metadata": {},
   "source": [
    "### Augmented Dickey Fuller test"
   ]
  },
  {
   "cell_type": "code",
   "execution_count": 47,
   "id": "c3d8c6fe",
   "metadata": {},
   "outputs": [],
   "source": [
    "from statsmodels.tsa.stattools import adfuller\n",
    "\n",
    "def adf_test(series,title=''):\n",
    "    \"\"\"\n",
    "    Pass in a time series and an optional title, returns an ADF report\n",
    "    \"\"\"\n",
    "    print(f'Augmented Dickey-Fuller Test: {title}')\n",
    "    result = adfuller(series.dropna(),autolag='AIC') # .dropna() handles differenced data\n",
    "    \n",
    "    labels = ['ADF test statistic','p-value','# lags used','# observations']\n",
    "    out = pd.Series(result[0:4],index=labels)\n",
    "\n",
    "    for key,val in result[4].items():\n",
    "        out[f'critical value ({key})']=val\n",
    "        \n",
    "    print(out.to_string())          # .to_string() removes the line \"dtype: float64\"\n",
    "    \n",
    "    if result[1] <= 0.05:\n",
    "        print(\"Strong evidence against the null hypothesis\")\n",
    "        print(\"Reject the null hypothesis\")\n",
    "        print(\"Data has no unit root and is stationary\")\n",
    "    else:\n",
    "        print(\"Weak evidence against the null hypothesis\")\n",
    "        print(\"Fail to reject the null hypothesis\")\n",
    "        print(\"Data has a unit root and is non-stationary\")"
   ]
  },
  {
   "cell_type": "code",
   "execution_count": 48,
   "id": "6b5bab64",
   "metadata": {},
   "outputs": [
    {
     "name": "stdout",
     "output_type": "stream",
     "text": [
      "Augmented Dickey-Fuller Test: DailyTotalFemaleBirths\n",
      "ADF test statistic     -9.855384e+00\n",
      "p-value                 4.373545e-17\n",
      "# lags used             0.000000e+00\n",
      "# observations          1.190000e+02\n",
      "critical value (1%)    -3.486535e+00\n",
      "critical value (5%)    -2.886151e+00\n",
      "critical value (10%)   -2.579896e+00\n",
      "Strong evidence against the null hypothesis\n",
      "Reject the null hypothesis\n",
      "Data has no unit root and is stationary\n"
     ]
    }
   ],
   "source": [
    "adf_test(df1['Births'], 'DailyTotalFemaleBirths')"
   ]
  },
  {
   "cell_type": "code",
   "execution_count": 49,
   "id": "c2487bde",
   "metadata": {},
   "outputs": [],
   "source": [
    "from pmdarima import auto_arima"
   ]
  },
  {
   "cell_type": "code",
   "execution_count": 50,
   "id": "2597c364",
   "metadata": {},
   "outputs": [
    {
     "name": "stdout",
     "output_type": "stream",
     "text": [
      "Fit ARIMA: order=(2, 0, 2); AIC=822.741, BIC=839.466, Fit time=0.234 seconds\n",
      "Fit ARIMA: order=(0, 0, 0); AIC=823.489, BIC=829.064, Fit time=0.000 seconds\n",
      "Fit ARIMA: order=(1, 0, 0); AIC=824.647, BIC=833.010, Fit time=0.000 seconds\n",
      "Fit ARIMA: order=(0, 0, 1); AIC=824.747, BIC=833.110, Fit time=0.016 seconds\n",
      "Fit ARIMA: order=(1, 0, 2); AIC=nan, BIC=nan, Fit time=nan seconds\n",
      "Fit ARIMA: order=(3, 0, 2); AIC=830.714, BIC=850.226, Fit time=0.225 seconds\n",
      "Fit ARIMA: order=(2, 0, 1); AIC=828.129, BIC=842.067, Fit time=0.078 seconds\n",
      "Fit ARIMA: order=(2, 0, 3); AIC=nan, BIC=nan, Fit time=nan seconds\n",
      "Fit ARIMA: order=(1, 0, 1); AIC=826.399, BIC=837.549, Fit time=0.047 seconds\n",
      "Fit ARIMA: order=(3, 0, 3); AIC=826.623, BIC=848.923, Fit time=0.604 seconds\n",
      "Total fit time: 1.219 seconds\n"
     ]
    },
    {
     "name": "stderr",
     "output_type": "stream",
     "text": [
      "C:\\Users\\HP\\anaconda3\\envs\\tsa_course\\lib\\site-packages\\statsmodels\\base\\model.py:508: ConvergenceWarning: Maximum Likelihood optimization failed to converge. Check mle_retvals\n",
      "  \"Check mle_retvals\", ConvergenceWarning)\n"
     ]
    },
    {
     "data": {
      "text/html": [
       "<table class=\"simpletable\">\n",
       "<caption>ARMA Model Results</caption>\n",
       "<tr>\n",
       "  <th>Dep. Variable:</th>         <td>y</td>        <th>  No. Observations:  </th>    <td>120</td>  \n",
       "</tr>\n",
       "<tr>\n",
       "  <th>Model:</th>            <td>ARMA(2, 2)</td>    <th>  Log Likelihood     </th> <td>-405.370</td>\n",
       "</tr>\n",
       "<tr>\n",
       "  <th>Method:</th>             <td>css-mle</td>     <th>  S.D. of innovations</th>   <td>6.991</td> \n",
       "</tr>\n",
       "<tr>\n",
       "  <th>Date:</th>          <td>Fri, 18 Mar 2022</td> <th>  AIC                </th>  <td>822.741</td>\n",
       "</tr>\n",
       "<tr>\n",
       "  <th>Time:</th>              <td>11:10:07</td>     <th>  BIC                </th>  <td>839.466</td>\n",
       "</tr>\n",
       "<tr>\n",
       "  <th>Sample:</th>                <td>0</td>        <th>  HQIC               </th>  <td>829.533</td>\n",
       "</tr>\n",
       "<tr>\n",
       "  <th></th>                       <td> </td>        <th>                     </th>     <td> </td>   \n",
       "</tr>\n",
       "</table>\n",
       "<table class=\"simpletable\">\n",
       "<tr>\n",
       "     <td></td>        <th>coef</th>     <th>std err</th>      <th>z</th>      <th>P>|z|</th>  <th>[0.025</th>    <th>0.975]</th>  \n",
       "</tr>\n",
       "<tr>\n",
       "  <th>const</th>   <td>   39.8163</td> <td>    0.108</td> <td>  368.927</td> <td> 0.000</td> <td>   39.605</td> <td>   40.028</td>\n",
       "</tr>\n",
       "<tr>\n",
       "  <th>ar.L1.y</th> <td>    1.8569</td> <td>    0.081</td> <td>   22.944</td> <td> 0.000</td> <td>    1.698</td> <td>    2.016</td>\n",
       "</tr>\n",
       "<tr>\n",
       "  <th>ar.L2.y</th> <td>   -0.8815</td> <td>    0.073</td> <td>  -12.037</td> <td> 0.000</td> <td>   -1.025</td> <td>   -0.738</td>\n",
       "</tr>\n",
       "<tr>\n",
       "  <th>ma.L1.y</th> <td>   -1.8634</td> <td>    0.109</td> <td>  -17.131</td> <td> 0.000</td> <td>   -2.077</td> <td>   -1.650</td>\n",
       "</tr>\n",
       "<tr>\n",
       "  <th>ma.L2.y</th> <td>    0.8634</td> <td>    0.108</td> <td>    8.023</td> <td> 0.000</td> <td>    0.652</td> <td>    1.074</td>\n",
       "</tr>\n",
       "</table>\n",
       "<table class=\"simpletable\">\n",
       "<caption>Roots</caption>\n",
       "<tr>\n",
       "    <td></td>   <th>            Real</th>  <th>         Imaginary</th> <th>         Modulus</th>  <th>        Frequency</th>\n",
       "</tr>\n",
       "<tr>\n",
       "  <th>AR.1</th> <td>           1.0533</td> <td>          -0.1582j</td> <td>           1.0651</td> <td>          -0.0237</td>\n",
       "</tr>\n",
       "<tr>\n",
       "  <th>AR.2</th> <td>           1.0533</td> <td>          +0.1582j</td> <td>           1.0651</td> <td>           0.0237</td>\n",
       "</tr>\n",
       "<tr>\n",
       "  <th>MA.1</th> <td>           1.0000</td> <td>          +0.0000j</td> <td>           1.0000</td> <td>           0.0000</td>\n",
       "</tr>\n",
       "<tr>\n",
       "  <th>MA.2</th> <td>           1.1582</td> <td>          +0.0000j</td> <td>           1.1582</td> <td>           0.0000</td>\n",
       "</tr>\n",
       "</table>"
      ],
      "text/plain": [
       "<class 'statsmodels.iolib.summary.Summary'>\n",
       "\"\"\"\n",
       "                              ARMA Model Results                              \n",
       "==============================================================================\n",
       "Dep. Variable:                      y   No. Observations:                  120\n",
       "Model:                     ARMA(2, 2)   Log Likelihood                -405.370\n",
       "Method:                       css-mle   S.D. of innovations              6.991\n",
       "Date:                Fri, 18 Mar 2022   AIC                            822.741\n",
       "Time:                        11:10:07   BIC                            839.466\n",
       "Sample:                             0   HQIC                           829.533\n",
       "                                                                              \n",
       "==============================================================================\n",
       "                 coef    std err          z      P>|z|      [0.025      0.975]\n",
       "------------------------------------------------------------------------------\n",
       "const         39.8163      0.108    368.927      0.000      39.605      40.028\n",
       "ar.L1.y        1.8569      0.081     22.944      0.000       1.698       2.016\n",
       "ar.L2.y       -0.8815      0.073    -12.037      0.000      -1.025      -0.738\n",
       "ma.L1.y       -1.8634      0.109    -17.131      0.000      -2.077      -1.650\n",
       "ma.L2.y        0.8634      0.108      8.023      0.000       0.652       1.074\n",
       "                                    Roots                                    \n",
       "=============================================================================\n",
       "                  Real          Imaginary           Modulus         Frequency\n",
       "-----------------------------------------------------------------------------\n",
       "AR.1            1.0533           -0.1582j            1.0651           -0.0237\n",
       "AR.2            1.0533           +0.1582j            1.0651            0.0237\n",
       "MA.1            1.0000           +0.0000j            1.0000            0.0000\n",
       "MA.2            1.1582           +0.0000j            1.1582            0.0000\n",
       "-----------------------------------------------------------------------------\n",
       "\"\"\""
      ]
     },
     "execution_count": 50,
     "metadata": {},
     "output_type": "execute_result"
    }
   ],
   "source": [
    "auto_arima(df1['Births'], exogenous=None, \n",
    "           start_p=2, d=None, start_q=2, max_p=5, max_d=2, max_q=5, \n",
    "           start_P=1, D=None, start_Q=1, max_P=2, max_D=1, max_Q=2, \n",
    "           max_order=10, m=1, seasonal=False, trace=True).summary()"
   ]
  },
  {
   "cell_type": "code",
   "execution_count": 51,
   "id": "25ac7372",
   "metadata": {},
   "outputs": [],
   "source": [
    "train = df1.iloc[:90]\n",
    "test = df1.iloc[90:]"
   ]
  },
  {
   "cell_type": "code",
   "execution_count": 52,
   "id": "24b7c24a",
   "metadata": {},
   "outputs": [
    {
     "data": {
      "text/html": [
       "<table class=\"simpletable\">\n",
       "<caption>ARMA Model Results</caption>\n",
       "<tr>\n",
       "  <th>Dep. Variable:</th>      <td>Births</td>      <th>  No. Observations:  </th>    <td>90</td>   \n",
       "</tr>\n",
       "<tr>\n",
       "  <th>Model:</th>            <td>ARMA(2, 2)</td>    <th>  Log Likelihood     </th> <td>-307.905</td>\n",
       "</tr>\n",
       "<tr>\n",
       "  <th>Method:</th>             <td>css-mle</td>     <th>  S.D. of innovations</th>   <td>7.405</td> \n",
       "</tr>\n",
       "<tr>\n",
       "  <th>Date:</th>          <td>Fri, 18 Mar 2022</td> <th>  AIC                </th>  <td>627.809</td>\n",
       "</tr>\n",
       "<tr>\n",
       "  <th>Time:</th>              <td>11:10:07</td>     <th>  BIC                </th>  <td>642.808</td>\n",
       "</tr>\n",
       "<tr>\n",
       "  <th>Sample:</th>           <td>01-01-1959</td>    <th>  HQIC               </th>  <td>633.858</td>\n",
       "</tr>\n",
       "<tr>\n",
       "  <th></th>                 <td>- 03-31-1959</td>   <th>                     </th>     <td> </td>   \n",
       "</tr>\n",
       "</table>\n",
       "<table class=\"simpletable\">\n",
       "<tr>\n",
       "        <td></td>          <th>coef</th>     <th>std err</th>      <th>z</th>      <th>P>|z|</th>  <th>[0.025</th>    <th>0.975]</th>  \n",
       "</tr>\n",
       "<tr>\n",
       "  <th>const</th>        <td>   39.7549</td> <td>    0.912</td> <td>   43.607</td> <td> 0.000</td> <td>   37.968</td> <td>   41.542</td>\n",
       "</tr>\n",
       "<tr>\n",
       "  <th>ar.L1.Births</th> <td>   -0.1850</td> <td>    1.087</td> <td>   -0.170</td> <td> 0.865</td> <td>   -2.315</td> <td>    1.945</td>\n",
       "</tr>\n",
       "<tr>\n",
       "  <th>ar.L2.Births</th> <td>    0.4352</td> <td>    0.644</td> <td>    0.675</td> <td> 0.501</td> <td>   -0.828</td> <td>    1.698</td>\n",
       "</tr>\n",
       "<tr>\n",
       "  <th>ma.L1.Births</th> <td>    0.2777</td> <td>    1.097</td> <td>    0.253</td> <td> 0.801</td> <td>   -1.872</td> <td>    2.427</td>\n",
       "</tr>\n",
       "<tr>\n",
       "  <th>ma.L2.Births</th> <td>   -0.3999</td> <td>    0.679</td> <td>   -0.589</td> <td> 0.557</td> <td>   -1.730</td> <td>    0.930</td>\n",
       "</tr>\n",
       "</table>\n",
       "<table class=\"simpletable\">\n",
       "<caption>Roots</caption>\n",
       "<tr>\n",
       "    <td></td>   <th>            Real</th>  <th>         Imaginary</th> <th>         Modulus</th>  <th>        Frequency</th>\n",
       "</tr>\n",
       "<tr>\n",
       "  <th>AR.1</th> <td>          -1.3181</td> <td>          +0.0000j</td> <td>           1.3181</td> <td>           0.5000</td>\n",
       "</tr>\n",
       "<tr>\n",
       "  <th>AR.2</th> <td>           1.7433</td> <td>          +0.0000j</td> <td>           1.7433</td> <td>           0.0000</td>\n",
       "</tr>\n",
       "<tr>\n",
       "  <th>MA.1</th> <td>          -1.2718</td> <td>          +0.0000j</td> <td>           1.2718</td> <td>           0.5000</td>\n",
       "</tr>\n",
       "<tr>\n",
       "  <th>MA.2</th> <td>           1.9662</td> <td>          +0.0000j</td> <td>           1.9662</td> <td>           0.0000</td>\n",
       "</tr>\n",
       "</table>"
      ],
      "text/plain": [
       "<class 'statsmodels.iolib.summary.Summary'>\n",
       "\"\"\"\n",
       "                              ARMA Model Results                              \n",
       "==============================================================================\n",
       "Dep. Variable:                 Births   No. Observations:                   90\n",
       "Model:                     ARMA(2, 2)   Log Likelihood                -307.905\n",
       "Method:                       css-mle   S.D. of innovations              7.405\n",
       "Date:                Fri, 18 Mar 2022   AIC                            627.809\n",
       "Time:                        11:10:07   BIC                            642.808\n",
       "Sample:                    01-01-1959   HQIC                           633.858\n",
       "                         - 03-31-1959                                         \n",
       "================================================================================\n",
       "                   coef    std err          z      P>|z|      [0.025      0.975]\n",
       "--------------------------------------------------------------------------------\n",
       "const           39.7549      0.912     43.607      0.000      37.968      41.542\n",
       "ar.L1.Births    -0.1850      1.087     -0.170      0.865      -2.315       1.945\n",
       "ar.L2.Births     0.4352      0.644      0.675      0.501      -0.828       1.698\n",
       "ma.L1.Births     0.2777      1.097      0.253      0.801      -1.872       2.427\n",
       "ma.L2.Births    -0.3999      0.679     -0.589      0.557      -1.730       0.930\n",
       "                                    Roots                                    \n",
       "=============================================================================\n",
       "                  Real          Imaginary           Modulus         Frequency\n",
       "-----------------------------------------------------------------------------\n",
       "AR.1           -1.3181           +0.0000j            1.3181            0.5000\n",
       "AR.2            1.7433           +0.0000j            1.7433            0.0000\n",
       "MA.1           -1.2718           +0.0000j            1.2718            0.5000\n",
       "MA.2            1.9662           +0.0000j            1.9662            0.0000\n",
       "-----------------------------------------------------------------------------\n",
       "\"\"\""
      ]
     },
     "execution_count": 52,
     "metadata": {},
     "output_type": "execute_result"
    }
   ],
   "source": [
    "model = ARMA(train['Births'], order=(2,2))\n",
    "fitted_model = model.fit()\n",
    "fitted_model.summary()"
   ]
  },
  {
   "cell_type": "code",
   "execution_count": 53,
   "id": "aa347ed1",
   "metadata": {},
   "outputs": [],
   "source": [
    "start = len(train)\n",
    "end = len(train) + len(test) - 1"
   ]
  },
  {
   "cell_type": "code",
   "execution_count": 54,
   "id": "283352b9",
   "metadata": {},
   "outputs": [],
   "source": [
    "pred = fitted_model.predict(start,end).rename('pred_ARMA(2,2)')"
   ]
  },
  {
   "cell_type": "code",
   "execution_count": 55,
   "id": "7dce20a9",
   "metadata": {},
   "outputs": [
    {
     "data": {
      "text/plain": [
       "1959-04-01    39.982216\n",
       "1959-04-02    39.992614\n",
       "1959-04-03    39.809827\n",
       "1959-04-04    39.848173\n",
       "1959-04-05    39.761536\n",
       "1959-04-06    39.794253\n",
       "1959-04-07    39.750498\n",
       "1959-04-08    39.772831\n",
       "1959-04-09    39.749658\n",
       "1959-04-10    39.763665\n",
       "1959-04-11    39.750989\n",
       "1959-04-12    39.759430\n",
       "1959-04-13    39.752352\n",
       "1959-04-14    39.757334\n",
       "1959-04-15    39.753333\n",
       "1959-04-16    39.756241\n",
       "1959-04-17    39.753962\n",
       "1959-04-18    39.755649\n",
       "1959-04-19    39.754345\n",
       "1959-04-20    39.755321\n",
       "1959-04-21    39.754572\n",
       "1959-04-22    39.755135\n",
       "1959-04-23    39.754706\n",
       "1959-04-24    39.755030\n",
       "1959-04-25    39.754783\n",
       "1959-04-26    39.754970\n",
       "1959-04-27    39.754828\n",
       "1959-04-28    39.754936\n",
       "1959-04-29    39.754854\n",
       "1959-04-30    39.754916\n",
       "Freq: D, Name: pred_ARMA(2,2), dtype: float64"
      ]
     },
     "execution_count": 55,
     "metadata": {},
     "output_type": "execute_result"
    }
   ],
   "source": [
    "pred"
   ]
  },
  {
   "cell_type": "code",
   "execution_count": 56,
   "id": "498da681",
   "metadata": {},
   "outputs": [
    {
     "data": {
      "text/plain": [
       "<matplotlib.axes._subplots.AxesSubplot at 0x282556cc5c0>"
      ]
     },
     "execution_count": 56,
     "metadata": {},
     "output_type": "execute_result"
    },
    {
     "data": {
      "image/png": "[encoded data removed]",
      "text/plain": [
       "<Figure size 864x576 with 1 Axes>"
      ]
     },
     "metadata": {
      "needs_background": "light"
     },
     "output_type": "display_data"
    }
   ],
   "source": [
    "test.plot(figsize=(12,8),legend=True)\n",
    "pred.plot(figsize=(12,8),legend=True)"
   ]
  },
  {
   "cell_type": "code",
   "execution_count": 57,
   "id": "953d7184",
   "metadata": {},
   "outputs": [
    {
     "data": {
      "text/plain": [
       "Births    39.833333\n",
       "dtype: float64"
      ]
     },
     "execution_count": 57,
     "metadata": {},
     "output_type": "execute_result"
    }
   ],
   "source": [
    "test.mean()"
   ]
  },
  {
   "cell_type": "code",
   "execution_count": 58,
   "id": "ca3108f7",
   "metadata": {},
   "outputs": [
    {
     "data": {
      "text/plain": [
       "39.77743188846464"
      ]
     },
     "execution_count": 58,
     "metadata": {},
     "output_type": "execute_result"
    }
   ],
   "source": [
    "pred.mean()"
   ]
  },
  {
   "cell_type": "code",
   "execution_count": 59,
   "id": "ad59d17b",
   "metadata": {},
   "outputs": [
    {
     "data": {
      "text/plain": [
       "<matplotlib.axes._subplots.AxesSubplot at 0x282557f3908>"
      ]
     },
     "execution_count": 59,
     "metadata": {},
     "output_type": "execute_result"
    },
    {
     "data": {
      "image/png": "[encoded data removed]",
      "text/plain": [
       "<Figure size 864x432 with 1 Axes>"
      ]
     },
     "metadata": {
      "needs_background": "light"
     },
     "output_type": "display_data"
    }
   ],
   "source": [
    "df2.plot(figsize=(12,6))"
   ]
  },
  {
   "cell_type": "code",
   "execution_count": 60,
   "id": "b27818fd",
   "metadata": {},
   "outputs": [],
   "source": [
    "from statsmodels.tsa.seasonal import seasonal_decompose"
   ]
  },
  {
   "cell_type": "code",
   "execution_count": 61,
   "id": "71addffc",
   "metadata": {},
   "outputs": [
    {
     "data": {
      "image/png": "[encoded data removed]",
      "text/plain": [
       "<Figure size 432x288 with 4 Axes>"
      ]
     },
     "metadata": {
      "needs_background": "light"
     },
     "output_type": "display_data"
    }
   ],
   "source": [
    "result = seasonal_decompose(df2['Inventories'], model='add')\n",
    "result.plot();"
   ]
  },
  {
   "cell_type": "code",
   "execution_count": 62,
   "id": "de167630",
   "metadata": {},
   "outputs": [
    {
     "name": "stdout",
     "output_type": "stream",
     "text": [
      "Fit ARIMA: order=(2, 1, 2); AIC=nan, BIC=nan, Fit time=nan seconds\n",
      "Fit ARIMA: order=(0, 1, 0); AIC=5348.037, BIC=5355.181, Fit time=0.000 seconds\n",
      "Fit ARIMA: order=(1, 1, 0); AIC=5250.883, BIC=5261.599, Fit time=0.031 seconds\n",
      "Fit ARIMA: order=(0, 1, 1); AIC=5283.095, BIC=5293.811, Fit time=0.016 seconds\n",
      "Fit ARIMA: order=(2, 1, 0); AIC=5240.553, BIC=5254.842, Fit time=0.103 seconds\n",
      "Fit ARIMA: order=(2, 1, 1); AIC=5229.528, BIC=5247.389, Fit time=0.093 seconds\n",
      "Fit ARIMA: order=(3, 1, 2); AIC=nan, BIC=nan, Fit time=nan seconds\n",
      "Fit ARIMA: order=(1, 1, 1); AIC=5228.505, BIC=5242.794, Fit time=0.089 seconds\n",
      "Fit ARIMA: order=(1, 1, 2); AIC=5229.289, BIC=5247.150, Fit time=0.137 seconds\n",
      "Total fit time: 0.501 seconds\n"
     ]
    },
    {
     "data": {
      "text/html": [
       "<table class=\"simpletable\">\n",
       "<caption>ARIMA Model Results</caption>\n",
       "<tr>\n",
       "  <th>Dep. Variable:</th>        <td>D.y</td>       <th>  No. Observations:  </th>    <td>263</td>   \n",
       "</tr>\n",
       "<tr>\n",
       "  <th>Model:</th>          <td>ARIMA(1, 1, 1)</td>  <th>  Log Likelihood     </th> <td>-2610.252</td>\n",
       "</tr>\n",
       "<tr>\n",
       "  <th>Method:</th>             <td>css-mle</td>     <th>  S.D. of innovations</th> <td>4938.258</td> \n",
       "</tr>\n",
       "<tr>\n",
       "  <th>Date:</th>          <td>Fri, 18 Mar 2022</td> <th>  AIC                </th> <td>5228.505</td> \n",
       "</tr>\n",
       "<tr>\n",
       "  <th>Time:</th>              <td>11:10:09</td>     <th>  BIC                </th> <td>5242.794</td> \n",
       "</tr>\n",
       "<tr>\n",
       "  <th>Sample:</th>                <td>1</td>        <th>  HQIC               </th> <td>5234.247</td> \n",
       "</tr>\n",
       "<tr>\n",
       "  <th></th>                       <td> </td>        <th>                     </th>     <td> </td>    \n",
       "</tr>\n",
       "</table>\n",
       "<table class=\"simpletable\">\n",
       "<tr>\n",
       "      <td></td>         <th>coef</th>     <th>std err</th>      <th>z</th>      <th>P>|z|</th>  <th>[0.025</th>    <th>0.975]</th>  \n",
       "</tr>\n",
       "<tr>\n",
       "  <th>const</th>     <td> 3472.9857</td> <td> 1313.669</td> <td>    2.644</td> <td> 0.009</td> <td>  898.241</td> <td> 6047.731</td>\n",
       "</tr>\n",
       "<tr>\n",
       "  <th>ar.L1.D.y</th> <td>    0.9037</td> <td>    0.039</td> <td>   23.414</td> <td> 0.000</td> <td>    0.828</td> <td>    0.979</td>\n",
       "</tr>\n",
       "<tr>\n",
       "  <th>ma.L1.D.y</th> <td>   -0.5732</td> <td>    0.076</td> <td>   -7.545</td> <td> 0.000</td> <td>   -0.722</td> <td>   -0.424</td>\n",
       "</tr>\n",
       "</table>\n",
       "<table class=\"simpletable\">\n",
       "<caption>Roots</caption>\n",
       "<tr>\n",
       "    <td></td>   <th>            Real</th>  <th>         Imaginary</th> <th>         Modulus</th>  <th>        Frequency</th>\n",
       "</tr>\n",
       "<tr>\n",
       "  <th>AR.1</th> <td>           1.1065</td> <td>          +0.0000j</td> <td>           1.1065</td> <td>           0.0000</td>\n",
       "</tr>\n",
       "<tr>\n",
       "  <th>MA.1</th> <td>           1.7446</td> <td>          +0.0000j</td> <td>           1.7446</td> <td>           0.0000</td>\n",
       "</tr>\n",
       "</table>"
      ],
      "text/plain": [
       "<class 'statsmodels.iolib.summary.Summary'>\n",
       "\"\"\"\n",
       "                             ARIMA Model Results                              \n",
       "==============================================================================\n",
       "Dep. Variable:                    D.y   No. Observations:                  263\n",
       "Model:                 ARIMA(1, 1, 1)   Log Likelihood               -2610.252\n",
       "Method:                       css-mle   S.D. of innovations           4938.258\n",
       "Date:                Fri, 18 Mar 2022   AIC                           5228.505\n",
       "Time:                        11:10:09   BIC                           5242.794\n",
       "Sample:                             1   HQIC                          5234.247\n",
       "                                                                              \n",
       "==============================================================================\n",
       "                 coef    std err          z      P>|z|      [0.025      0.975]\n",
       "------------------------------------------------------------------------------\n",
       "const       3472.9857   1313.669      2.644      0.009     898.241    6047.731\n",
       "ar.L1.D.y      0.9037      0.039     23.414      0.000       0.828       0.979\n",
       "ma.L1.D.y     -0.5732      0.076     -7.545      0.000      -0.722      -0.424\n",
       "                                    Roots                                    \n",
       "=============================================================================\n",
       "                  Real          Imaginary           Modulus         Frequency\n",
       "-----------------------------------------------------------------------------\n",
       "AR.1            1.1065           +0.0000j            1.1065            0.0000\n",
       "MA.1            1.7446           +0.0000j            1.7446            0.0000\n",
       "-----------------------------------------------------------------------------\n",
       "\"\"\""
      ]
     },
     "execution_count": 62,
     "metadata": {},
     "output_type": "execute_result"
    }
   ],
   "source": [
    "auto_arima(df2['Inventories'], exogenous=None, \n",
    "           start_p=2, d=None, start_q=2, max_p=5, max_d=2, max_q=5, \n",
    "           start_P=1, D=None, start_Q=1, max_P=2, max_D=1, max_Q=2, \n",
    "           max_order=10, m=1, seasonal=False, trace=True).summary()"
   ]
  },
  {
   "cell_type": "code",
   "execution_count": 63,
   "id": "c56d124d",
   "metadata": {},
   "outputs": [
    {
     "name": "stdout",
     "output_type": "stream",
     "text": [
      "Augmented Dickey-Fuller Test: \n",
      "ADF test statistic       -0.087684\n",
      "p-value                   0.950652\n",
      "# lags used               5.000000\n",
      "# observations          258.000000\n",
      "critical value (1%)      -3.455953\n",
      "critical value (5%)      -2.872809\n",
      "critical value (10%)     -2.572775\n",
      "Weak evidence against the null hypothesis\n",
      "Fail to reject the null hypothesis\n",
      "Data has a unit root and is non-stationary\n"
     ]
    }
   ],
   "source": [
    "adf_test(df2['Inventories'])"
   ]
  },
  {
   "cell_type": "code",
   "execution_count": 64,
   "id": "cd7138ae",
   "metadata": {},
   "outputs": [],
   "source": [
    "from statsmodels.tsa.statespace.tools import diff"
   ]
  },
  {
   "cell_type": "code",
   "execution_count": 65,
   "id": "f7496b63",
   "metadata": {},
   "outputs": [],
   "source": [
    "df2['diff1'] = diff(df2['Inventories'],k_diff=1)"
   ]
  },
  {
   "cell_type": "code",
   "execution_count": 66,
   "id": "9b7ee4e0",
   "metadata": {},
   "outputs": [
    {
     "name": "stdout",
     "output_type": "stream",
     "text": [
      "Augmented Dickey-Fuller Test: \n",
      "ADF test statistic       -3.412249\n",
      "p-value                   0.010548\n",
      "# lags used               4.000000\n",
      "# observations          258.000000\n",
      "critical value (1%)      -3.455953\n",
      "critical value (5%)      -2.872809\n",
      "critical value (10%)     -2.572775\n",
      "Strong evidence against the null hypothesis\n",
      "Reject the null hypothesis\n",
      "Data has no unit root and is stationary\n"
     ]
    }
   ],
   "source": [
    "adf_test(df2['diff1'])"
   ]
  },
  {
   "cell_type": "code",
   "execution_count": 67,
   "id": "ac8a956f",
   "metadata": {},
   "outputs": [
    {
     "data": {
      "image/png": "[encoded data removed]",
      "text/plain": [
       "<Figure size 432x288 with 1 Axes>"
      ]
     },
     "metadata": {
      "needs_background": "light"
     },
     "output_type": "display_data"
    }
   ],
   "source": [
    "plot_acf(df2['Inventories'], lags=40);"
   ]
  },
  {
   "cell_type": "code",
   "execution_count": 68,
   "id": "540ff04d",
   "metadata": {},
   "outputs": [
    {
     "data": {
      "image/png": "[encoded data removed]",
      "text/plain": [
       "<Figure size 432x288 with 1 Axes>"
      ]
     },
     "metadata": {
      "needs_background": "light"
     },
     "output_type": "display_data"
    }
   ],
   "source": [
    "plot_pacf(df2['Inventories'], lags=40);"
   ]
  },
  {
   "cell_type": "code",
   "execution_count": 69,
   "id": "14e1c362",
   "metadata": {},
   "outputs": [
    {
     "name": "stdout",
     "output_type": "stream",
     "text": [
      "Fit ARIMA: order=(0, 1, 0); AIC=5348.037, BIC=5355.181, Fit time=0.003 seconds\n",
      "Fit ARIMA: order=(1, 1, 0); AIC=5250.883, BIC=5261.599, Fit time=0.044 seconds\n",
      "Fit ARIMA: order=(0, 1, 1); AIC=5283.095, BIC=5293.811, Fit time=0.014 seconds\n",
      "Fit ARIMA: order=(2, 1, 0); AIC=5240.553, BIC=5254.842, Fit time=0.086 seconds\n",
      "Fit ARIMA: order=(2, 1, 1); AIC=5229.528, BIC=5247.389, Fit time=0.073 seconds\n",
      "Fit ARIMA: order=(1, 1, 1); AIC=5228.505, BIC=5242.794, Fit time=0.094 seconds\n",
      "Fit ARIMA: order=(1, 1, 2); AIC=5229.289, BIC=5247.150, Fit time=0.129 seconds\n",
      "Fit ARIMA: order=(2, 1, 2); AIC=nan, BIC=nan, Fit time=nan seconds\n",
      "Total fit time: 0.461 seconds\n"
     ]
    },
    {
     "data": {
      "text/html": [
       "<table class=\"simpletable\">\n",
       "<caption>ARIMA Model Results</caption>\n",
       "<tr>\n",
       "  <th>Dep. Variable:</th>        <td>D.y</td>       <th>  No. Observations:  </th>    <td>263</td>   \n",
       "</tr>\n",
       "<tr>\n",
       "  <th>Model:</th>          <td>ARIMA(1, 1, 1)</td>  <th>  Log Likelihood     </th> <td>-2610.252</td>\n",
       "</tr>\n",
       "<tr>\n",
       "  <th>Method:</th>             <td>css-mle</td>     <th>  S.D. of innovations</th> <td>4938.258</td> \n",
       "</tr>\n",
       "<tr>\n",
       "  <th>Date:</th>          <td>Fri, 18 Mar 2022</td> <th>  AIC                </th> <td>5228.505</td> \n",
       "</tr>\n",
       "<tr>\n",
       "  <th>Time:</th>              <td>11:10:11</td>     <th>  BIC                </th> <td>5242.794</td> \n",
       "</tr>\n",
       "<tr>\n",
       "  <th>Sample:</th>                <td>1</td>        <th>  HQIC               </th> <td>5234.247</td> \n",
       "</tr>\n",
       "<tr>\n",
       "  <th></th>                       <td> </td>        <th>                     </th>     <td> </td>    \n",
       "</tr>\n",
       "</table>\n",
       "<table class=\"simpletable\">\n",
       "<tr>\n",
       "      <td></td>         <th>coef</th>     <th>std err</th>      <th>z</th>      <th>P>|z|</th>  <th>[0.025</th>    <th>0.975]</th>  \n",
       "</tr>\n",
       "<tr>\n",
       "  <th>const</th>     <td> 3472.9857</td> <td> 1313.669</td> <td>    2.644</td> <td> 0.009</td> <td>  898.241</td> <td> 6047.731</td>\n",
       "</tr>\n",
       "<tr>\n",
       "  <th>ar.L1.D.y</th> <td>    0.9037</td> <td>    0.039</td> <td>   23.414</td> <td> 0.000</td> <td>    0.828</td> <td>    0.979</td>\n",
       "</tr>\n",
       "<tr>\n",
       "  <th>ma.L1.D.y</th> <td>   -0.5732</td> <td>    0.076</td> <td>   -7.545</td> <td> 0.000</td> <td>   -0.722</td> <td>   -0.424</td>\n",
       "</tr>\n",
       "</table>\n",
       "<table class=\"simpletable\">\n",
       "<caption>Roots</caption>\n",
       "<tr>\n",
       "    <td></td>   <th>            Real</th>  <th>         Imaginary</th> <th>         Modulus</th>  <th>        Frequency</th>\n",
       "</tr>\n",
       "<tr>\n",
       "  <th>AR.1</th> <td>           1.1065</td> <td>          +0.0000j</td> <td>           1.1065</td> <td>           0.0000</td>\n",
       "</tr>\n",
       "<tr>\n",
       "  <th>MA.1</th> <td>           1.7446</td> <td>          +0.0000j</td> <td>           1.7446</td> <td>           0.0000</td>\n",
       "</tr>\n",
       "</table>"
      ],
      "text/plain": [
       "<class 'statsmodels.iolib.summary.Summary'>\n",
       "\"\"\"\n",
       "                             ARIMA Model Results                              \n",
       "==============================================================================\n",
       "Dep. Variable:                    D.y   No. Observations:                  263\n",
       "Model:                 ARIMA(1, 1, 1)   Log Likelihood               -2610.252\n",
       "Method:                       css-mle   S.D. of innovations           4938.258\n",
       "Date:                Fri, 18 Mar 2022   AIC                           5228.505\n",
       "Time:                        11:10:11   BIC                           5242.794\n",
       "Sample:                             1   HQIC                          5234.247\n",
       "                                                                              \n",
       "==============================================================================\n",
       "                 coef    std err          z      P>|z|      [0.025      0.975]\n",
       "------------------------------------------------------------------------------\n",
       "const       3472.9857   1313.669      2.644      0.009     898.241    6047.731\n",
       "ar.L1.D.y      0.9037      0.039     23.414      0.000       0.828       0.979\n",
       "ma.L1.D.y     -0.5732      0.076     -7.545      0.000      -0.722      -0.424\n",
       "                                    Roots                                    \n",
       "=============================================================================\n",
       "                  Real          Imaginary           Modulus         Frequency\n",
       "-----------------------------------------------------------------------------\n",
       "AR.1            1.1065           +0.0000j            1.1065            0.0000\n",
       "MA.1            1.7446           +0.0000j            1.7446            0.0000\n",
       "-----------------------------------------------------------------------------\n",
       "\"\"\""
      ]
     },
     "execution_count": 69,
     "metadata": {},
     "output_type": "execute_result"
    }
   ],
   "source": [
    "auto_arima(df2['Inventories'], exogenous=None, \n",
    "           start_p=0, d=None, start_q=0, max_p=2, max_d=2, max_q=2, \n",
    "           start_P=1, D=None, start_Q=1, max_P=2, max_D=1, max_Q=2, \n",
    "           max_order=10, m=1, seasonal=False, trace=True).summary()"
   ]
  },
  {
   "cell_type": "code",
   "execution_count": 70,
   "id": "4ce3103b",
   "metadata": {},
   "outputs": [
    {
     "data": {
      "text/plain": [
       "264"
      ]
     },
     "execution_count": 70,
     "metadata": {},
     "output_type": "execute_result"
    }
   ],
   "source": [
    "len(df2)"
   ]
  },
  {
   "cell_type": "code",
   "execution_count": 71,
   "id": "263f6275",
   "metadata": {},
   "outputs": [],
   "source": [
    "train = df2.iloc[:252] \n",
    "test = df2.iloc[252:]"
   ]
  },
  {
   "cell_type": "code",
   "execution_count": 72,
   "id": "dfa45696",
   "metadata": {},
   "outputs": [
    {
     "data": {
      "text/html": [
       "<table class=\"simpletable\">\n",
       "<caption>ARIMA Model Results</caption>\n",
       "<tr>\n",
       "  <th>Dep. Variable:</th>   <td>D.Inventories</td>  <th>  No. Observations:  </th>    <td>251</td>   \n",
       "</tr>\n",
       "<tr>\n",
       "  <th>Model:</th>          <td>ARIMA(1, 1, 1)</td>  <th>  Log Likelihood     </th> <td>-2486.395</td>\n",
       "</tr>\n",
       "<tr>\n",
       "  <th>Method:</th>             <td>css-mle</td>     <th>  S.D. of innovations</th> <td>4845.028</td> \n",
       "</tr>\n",
       "<tr>\n",
       "  <th>Date:</th>          <td>Fri, 18 Mar 2022</td> <th>  AIC                </th> <td>4980.790</td> \n",
       "</tr>\n",
       "<tr>\n",
       "  <th>Time:</th>              <td>11:10:11</td>     <th>  BIC                </th> <td>4994.892</td> \n",
       "</tr>\n",
       "<tr>\n",
       "  <th>Sample:</th>           <td>02-01-1997</td>    <th>  HQIC               </th> <td>4986.465</td> \n",
       "</tr>\n",
       "<tr>\n",
       "  <th></th>                 <td>- 12-01-2017</td>   <th>                     </th>     <td> </td>    \n",
       "</tr>\n",
       "</table>\n",
       "<table class=\"simpletable\">\n",
       "<tr>\n",
       "           <td></td>              <th>coef</th>     <th>std err</th>      <th>z</th>      <th>P>|z|</th>  <th>[0.025</th>    <th>0.975]</th>  \n",
       "</tr>\n",
       "<tr>\n",
       "  <th>const</th>               <td> 3197.5697</td> <td> 1344.871</td> <td>    2.378</td> <td> 0.018</td> <td>  561.671</td> <td> 5833.468</td>\n",
       "</tr>\n",
       "<tr>\n",
       "  <th>ar.L1.D.Inventories</th> <td>    0.9026</td> <td>    0.039</td> <td>   23.010</td> <td> 0.000</td> <td>    0.826</td> <td>    0.979</td>\n",
       "</tr>\n",
       "<tr>\n",
       "  <th>ma.L1.D.Inventories</th> <td>   -0.5581</td> <td>    0.079</td> <td>   -7.048</td> <td> 0.000</td> <td>   -0.713</td> <td>   -0.403</td>\n",
       "</tr>\n",
       "</table>\n",
       "<table class=\"simpletable\">\n",
       "<caption>Roots</caption>\n",
       "<tr>\n",
       "    <td></td>   <th>            Real</th>  <th>         Imaginary</th> <th>         Modulus</th>  <th>        Frequency</th>\n",
       "</tr>\n",
       "<tr>\n",
       "  <th>AR.1</th> <td>           1.1080</td> <td>          +0.0000j</td> <td>           1.1080</td> <td>           0.0000</td>\n",
       "</tr>\n",
       "<tr>\n",
       "  <th>MA.1</th> <td>           1.7918</td> <td>          +0.0000j</td> <td>           1.7918</td> <td>           0.0000</td>\n",
       "</tr>\n",
       "</table>"
      ],
      "text/plain": [
       "<class 'statsmodels.iolib.summary.Summary'>\n",
       "\"\"\"\n",
       "                             ARIMA Model Results                              \n",
       "==============================================================================\n",
       "Dep. Variable:          D.Inventories   No. Observations:                  251\n",
       "Model:                 ARIMA(1, 1, 1)   Log Likelihood               -2486.395\n",
       "Method:                       css-mle   S.D. of innovations           4845.028\n",
       "Date:                Fri, 18 Mar 2022   AIC                           4980.790\n",
       "Time:                        11:10:11   BIC                           4994.892\n",
       "Sample:                    02-01-1997   HQIC                          4986.465\n",
       "                         - 12-01-2017                                         \n",
       "=======================================================================================\n",
       "                          coef    std err          z      P>|z|      [0.025      0.975]\n",
       "---------------------------------------------------------------------------------------\n",
       "const                3197.5697   1344.871      2.378      0.018     561.671    5833.468\n",
       "ar.L1.D.Inventories     0.9026      0.039     23.010      0.000       0.826       0.979\n",
       "ma.L1.D.Inventories    -0.5581      0.079     -7.048      0.000      -0.713      -0.403\n",
       "                                    Roots                                    \n",
       "=============================================================================\n",
       "                  Real          Imaginary           Modulus         Frequency\n",
       "-----------------------------------------------------------------------------\n",
       "AR.1            1.1080           +0.0000j            1.1080            0.0000\n",
       "MA.1            1.7918           +0.0000j            1.7918            0.0000\n",
       "-----------------------------------------------------------------------------\n",
       "\"\"\""
      ]
     },
     "execution_count": 72,
     "metadata": {},
     "output_type": "execute_result"
    }
   ],
   "source": [
    "model = ARIMA(train['Inventories'], order=(1, 1, 1))\n",
    "fitted_model = model.fit()\n",
    "fitted_model.summary()"
   ]
  },
  {
   "cell_type": "code",
   "execution_count": 73,
   "id": "fa94e49c",
   "metadata": {},
   "outputs": [],
   "source": [
    "start = len(train)\n",
    "end = len(train) + len(test) - 1"
   ]
  },
  {
   "cell_type": "code",
   "execution_count": 74,
   "id": "337faac1",
   "metadata": {},
   "outputs": [],
   "source": [
    "pred_ARIMA = fitted_model.predict(start,end,typ='levels').rename('ARIMA_(1,1,1)')"
   ]
  },
  {
   "cell_type": "code",
   "execution_count": 75,
   "id": "a330f495",
   "metadata": {},
   "outputs": [
    {
     "data": {
      "text/plain": [
       "<matplotlib.axes._subplots.AxesSubplot at 0x2825b6b3c50>"
      ]
     },
     "execution_count": 75,
     "metadata": {},
     "output_type": "execute_result"
    },
    {
     "data": {
      "image/png": "[encoded data removed]",
      "text/plain": [
       "<Figure size 864x576 with 1 Axes>"
      ]
     },
     "metadata": {
      "needs_background": "light"
     },
     "output_type": "display_data"
    }
   ],
   "source": [
    "test['Inventories'].plot(figsize=(12,8),legend=True)\n",
    "pred_ARIMA.plot(figsize=(12,8),legend=True)"
   ]
  },
  {
   "cell_type": "code",
   "execution_count": 76,
   "id": "b69866ba",
   "metadata": {},
   "outputs": [
    {
     "name": "stdout",
     "output_type": "stream",
     "text": [
      "MAE:  6376.313462885718\n",
      "MSE:  60677824.72190262\n",
      "RMSE:  7789.597211788464\n"
     ]
    }
   ],
   "source": [
    "reg_eval_metrics(test['Inventories'], pred_ARIMA)"
   ]
  },
  {
   "cell_type": "code",
   "execution_count": 77,
   "id": "706ea935",
   "metadata": {},
   "outputs": [
    {
     "data": {
      "text/plain": [
       "2125075.6666666665"
      ]
     },
     "execution_count": 77,
     "metadata": {},
     "output_type": "execute_result"
    }
   ],
   "source": [
    "test['Inventories'].mean()"
   ]
  },
  {
   "cell_type": "code",
   "execution_count": 78,
   "id": "89f1f7f9",
   "metadata": {},
   "outputs": [
    {
     "data": {
      "text/plain": [
       "0.3649068752281166"
      ]
     },
     "execution_count": 78,
     "metadata": {},
     "output_type": "execute_result"
    }
   ],
   "source": [
    "(7754.5472114664 / 2125075.6666666665)*100"
   ]
  },
  {
   "cell_type": "markdown",
   "id": "cc59c4a0",
   "metadata": {},
   "source": [
    "### Forecast into the unknown future"
   ]
  },
  {
   "cell_type": "code",
   "execution_count": 79,
   "id": "abf52e55",
   "metadata": {},
   "outputs": [
    {
     "data": {
      "text/html": [
       "<table class=\"simpletable\">\n",
       "<caption>ARIMA Model Results</caption>\n",
       "<tr>\n",
       "  <th>Dep. Variable:</th>   <td>D.Inventories</td>  <th>  No. Observations:  </th>    <td>263</td>   \n",
       "</tr>\n",
       "<tr>\n",
       "  <th>Model:</th>          <td>ARIMA(1, 1, 1)</td>  <th>  Log Likelihood     </th> <td>-2610.252</td>\n",
       "</tr>\n",
       "<tr>\n",
       "  <th>Method:</th>             <td>css-mle</td>     <th>  S.D. of innovations</th> <td>4938.258</td> \n",
       "</tr>\n",
       "<tr>\n",
       "  <th>Date:</th>          <td>Fri, 18 Mar 2022</td> <th>  AIC                </th> <td>5228.505</td> \n",
       "</tr>\n",
       "<tr>\n",
       "  <th>Time:</th>              <td>11:10:12</td>     <th>  BIC                </th> <td>5242.794</td> \n",
       "</tr>\n",
       "<tr>\n",
       "  <th>Sample:</th>           <td>02-01-1997</td>    <th>  HQIC               </th> <td>5234.247</td> \n",
       "</tr>\n",
       "<tr>\n",
       "  <th></th>                 <td>- 12-01-2018</td>   <th>                     </th>     <td> </td>    \n",
       "</tr>\n",
       "</table>\n",
       "<table class=\"simpletable\">\n",
       "<tr>\n",
       "           <td></td>              <th>coef</th>     <th>std err</th>      <th>z</th>      <th>P>|z|</th>  <th>[0.025</th>    <th>0.975]</th>  \n",
       "</tr>\n",
       "<tr>\n",
       "  <th>const</th>               <td> 3472.9857</td> <td> 1313.669</td> <td>    2.644</td> <td> 0.009</td> <td>  898.241</td> <td> 6047.731</td>\n",
       "</tr>\n",
       "<tr>\n",
       "  <th>ar.L1.D.Inventories</th> <td>    0.9037</td> <td>    0.039</td> <td>   23.414</td> <td> 0.000</td> <td>    0.828</td> <td>    0.979</td>\n",
       "</tr>\n",
       "<tr>\n",
       "  <th>ma.L1.D.Inventories</th> <td>   -0.5732</td> <td>    0.076</td> <td>   -7.545</td> <td> 0.000</td> <td>   -0.722</td> <td>   -0.424</td>\n",
       "</tr>\n",
       "</table>\n",
       "<table class=\"simpletable\">\n",
       "<caption>Roots</caption>\n",
       "<tr>\n",
       "    <td></td>   <th>            Real</th>  <th>         Imaginary</th> <th>         Modulus</th>  <th>        Frequency</th>\n",
       "</tr>\n",
       "<tr>\n",
       "  <th>AR.1</th> <td>           1.1065</td> <td>          +0.0000j</td> <td>           1.1065</td> <td>           0.0000</td>\n",
       "</tr>\n",
       "<tr>\n",
       "  <th>MA.1</th> <td>           1.7446</td> <td>          +0.0000j</td> <td>           1.7446</td> <td>           0.0000</td>\n",
       "</tr>\n",
       "</table>"
      ],
      "text/plain": [
       "<class 'statsmodels.iolib.summary.Summary'>\n",
       "\"\"\"\n",
       "                             ARIMA Model Results                              \n",
       "==============================================================================\n",
       "Dep. Variable:          D.Inventories   No. Observations:                  263\n",
       "Model:                 ARIMA(1, 1, 1)   Log Likelihood               -2610.252\n",
       "Method:                       css-mle   S.D. of innovations           4938.258\n",
       "Date:                Fri, 18 Mar 2022   AIC                           5228.505\n",
       "Time:                        11:10:12   BIC                           5242.794\n",
       "Sample:                    02-01-1997   HQIC                          5234.247\n",
       "                         - 12-01-2018                                         \n",
       "=======================================================================================\n",
       "                          coef    std err          z      P>|z|      [0.025      0.975]\n",
       "---------------------------------------------------------------------------------------\n",
       "const                3472.9857   1313.669      2.644      0.009     898.241    6047.731\n",
       "ar.L1.D.Inventories     0.9037      0.039     23.414      0.000       0.828       0.979\n",
       "ma.L1.D.Inventories    -0.5732      0.076     -7.545      0.000      -0.722      -0.424\n",
       "                                    Roots                                    \n",
       "=============================================================================\n",
       "                  Real          Imaginary           Modulus         Frequency\n",
       "-----------------------------------------------------------------------------\n",
       "AR.1            1.1065           +0.0000j            1.1065            0.0000\n",
       "MA.1            1.7446           +0.0000j            1.7446            0.0000\n",
       "-----------------------------------------------------------------------------\n",
       "\"\"\""
      ]
     },
     "execution_count": 79,
     "metadata": {},
     "output_type": "execute_result"
    }
   ],
   "source": [
    "final_model = ARIMA(df2['Inventories'], (1,1,1))\n",
    "final_fitted_model = final_model.fit()\n",
    "final_fitted_model.summary()"
   ]
  },
  {
   "cell_type": "code",
   "execution_count": 80,
   "id": "72f00fd8",
   "metadata": {},
   "outputs": [],
   "source": [
    "final_forecast = final_fitted_model.predict(len(df2), len(df2)+11, typ='levels').rename('ARIMA (1,1,1)_forecast')"
   ]
  },
  {
   "cell_type": "code",
   "execution_count": 81,
   "id": "8f15ecd2",
   "metadata": {},
   "outputs": [
    {
     "data": {
      "text/plain": [
       "<matplotlib.axes._subplots.AxesSubplot at 0x2825b748780>"
      ]
     },
     "execution_count": 81,
     "metadata": {},
     "output_type": "execute_result"
    },
    {
     "data": {
      "image/png": "[encoded data removed]",
      "text/plain": [
       "<Figure size 864x576 with 1 Axes>"
      ]
     },
     "metadata": {
      "needs_background": "light"
     },
     "output_type": "display_data"
    }
   ],
   "source": [
    "df2['Inventories'].plot(figsize=(12,8),legend=True)\n",
    "final_forecast.plot(figsize=(12,8),legend=True)"
   ]
  },
  {
   "cell_type": "code",
   "execution_count": null,
   "id": "260bf381",
   "metadata": {},
   "outputs": [],
   "source": []
  }
 ],
 "metadata": {
  "kernelspec": {
   "display_name": "Python 3 (ipykernel)",
   "language": "python",
   "name": "python3"
  },
  "language_info": {
   "codemirror_mode": {
    "name": "ipython",
    "version": 3
   },
   "file_extension": ".py",
   "mimetype": "text/x-python",
   "name": "python",
   "nbconvert_exporter": "python",
   "pygments_lexer": "ipython3",
   "version": "3.7.2"
  }
 },
 "nbformat": 4,
 "nbformat_minor": 5
}
